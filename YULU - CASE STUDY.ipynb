{
 "cells": [
  {
   "cell_type": "markdown",
   "id": "77f21575",
   "metadata": {},
   "source": [
    "#### About Yulu\n",
    "\n",
    "Yulu is India’s leading micro-mobility service provider, which offers unique vehicles for the daily commute. Starting off as a mission to eliminate traffic congestion in India, Yulu provides the safest commute solution through a user-friendly mobile app to enable shared, solo and sustainable commuting.\n",
    "\n",
    "Yulu zones are located at all the appropriate locations (including metro stations, bus stands, office spaces, residential areas, corporate offices, etc) to make those first and last miles smooth, affordable, and convenient!\n",
    "\n",
    "Yulu has recently suffered considerable dips in its revenues. They have contracted a consulting company to understand the factors on which the demand for these shared electric cycles depends. Specifically, they want to understand the factors affecting the demand for these shared electric cycles in the Indian market."
   ]
  },
  {
   "cell_type": "code",
   "execution_count": null,
   "id": "9a89c545",
   "metadata": {},
   "outputs": [],
   "source": []
  },
  {
   "cell_type": "code",
   "execution_count": null,
   "id": "09ab3e54",
   "metadata": {},
   "outputs": [],
   "source": []
  },
  {
   "cell_type": "markdown",
   "id": "83b85015",
   "metadata": {},
   "source": [
    "IMPORTING LIBRARIES"
   ]
  },
  {
   "cell_type": "code",
   "execution_count": 1,
   "id": "000c5f69",
   "metadata": {},
   "outputs": [],
   "source": [
    "import pandas as pd\n",
    "import numpy as np\n",
    "import seaborn as sns\n",
    "import matplotlib.pyplot as plt\n",
    "from scipy.stats import ttest_ind # TO CHECK FOR SIGNIFICANT DIFFERNCE BETWEEN THE MEANS OF TWO GROUPS\n",
    "from scipy.stats import chi2_contingency # TO CHECK THE DIFFERENCES BETWEEN OBSERVED AND EXPECTED(IN TABLE FORMAT)\n",
    "from scipy.stats import chisquare # TO CHECK THE DIFFERENCES BETWEEN OBSERVED AND EXPECTED\n",
    "from statsmodels.graphics.gofplots import qqplot # QQ PLOT - TO CHECK FOR NORMALITY OF THE DISTRIBUTION\n",
    "from scipy.stats import shapiro # TO CHECK FOR NORMALITY OF THE DISTRIBUTION\n",
    "from scipy.stats import levene # TO CHECK FOR EQUALITY IN VARIANCE\n",
    "from scipy.stats import kruskal # TO CHECK FOR SIGNIFICANT DIFFERENCE IN MEANS"
   ]
  },
  {
   "cell_type": "code",
   "execution_count": null,
   "id": "7d34e7f0",
   "metadata": {},
   "outputs": [],
   "source": []
  },
  {
   "cell_type": "markdown",
   "id": "0bb1e049",
   "metadata": {},
   "source": [
    "LOADING FILES"
   ]
  },
  {
   "cell_type": "code",
   "execution_count": 2,
   "id": "0c66b7d2",
   "metadata": {},
   "outputs": [],
   "source": [
    "file = pd.read_csv('bike_sharing.txt')"
   ]
  },
  {
   "cell_type": "code",
   "execution_count": 3,
   "id": "d424ba77",
   "metadata": {},
   "outputs": [],
   "source": [
    "data = file.copy()"
   ]
  },
  {
   "cell_type": "code",
   "execution_count": 4,
   "id": "3b694029",
   "metadata": {},
   "outputs": [
    {
     "data": {
      "text/html": [
       "<div>\n",
       "<style scoped>\n",
       "    .dataframe tbody tr th:only-of-type {\n",
       "        vertical-align: middle;\n",
       "    }\n",
       "\n",
       "    .dataframe tbody tr th {\n",
       "        vertical-align: top;\n",
       "    }\n",
       "\n",
       "    .dataframe thead th {\n",
       "        text-align: right;\n",
       "    }\n",
       "</style>\n",
       "<table border=\"1\" class=\"dataframe\">\n",
       "  <thead>\n",
       "    <tr style=\"text-align: right;\">\n",
       "      <th></th>\n",
       "      <th>datetime</th>\n",
       "      <th>season</th>\n",
       "      <th>holiday</th>\n",
       "      <th>workingday</th>\n",
       "      <th>weather</th>\n",
       "      <th>temp</th>\n",
       "      <th>atemp</th>\n",
       "      <th>humidity</th>\n",
       "      <th>windspeed</th>\n",
       "      <th>casual</th>\n",
       "      <th>registered</th>\n",
       "      <th>count</th>\n",
       "    </tr>\n",
       "  </thead>\n",
       "  <tbody>\n",
       "    <tr>\n",
       "      <th>0</th>\n",
       "      <td>2011-01-01 00:00:00</td>\n",
       "      <td>1</td>\n",
       "      <td>0</td>\n",
       "      <td>0</td>\n",
       "      <td>1</td>\n",
       "      <td>9.84</td>\n",
       "      <td>14.395</td>\n",
       "      <td>81</td>\n",
       "      <td>0.0000</td>\n",
       "      <td>3</td>\n",
       "      <td>13</td>\n",
       "      <td>16</td>\n",
       "    </tr>\n",
       "    <tr>\n",
       "      <th>1</th>\n",
       "      <td>2011-01-01 01:00:00</td>\n",
       "      <td>1</td>\n",
       "      <td>0</td>\n",
       "      <td>0</td>\n",
       "      <td>1</td>\n",
       "      <td>9.02</td>\n",
       "      <td>13.635</td>\n",
       "      <td>80</td>\n",
       "      <td>0.0000</td>\n",
       "      <td>8</td>\n",
       "      <td>32</td>\n",
       "      <td>40</td>\n",
       "    </tr>\n",
       "    <tr>\n",
       "      <th>2</th>\n",
       "      <td>2011-01-01 02:00:00</td>\n",
       "      <td>1</td>\n",
       "      <td>0</td>\n",
       "      <td>0</td>\n",
       "      <td>1</td>\n",
       "      <td>9.02</td>\n",
       "      <td>13.635</td>\n",
       "      <td>80</td>\n",
       "      <td>0.0000</td>\n",
       "      <td>5</td>\n",
       "      <td>27</td>\n",
       "      <td>32</td>\n",
       "    </tr>\n",
       "    <tr>\n",
       "      <th>3</th>\n",
       "      <td>2011-01-01 03:00:00</td>\n",
       "      <td>1</td>\n",
       "      <td>0</td>\n",
       "      <td>0</td>\n",
       "      <td>1</td>\n",
       "      <td>9.84</td>\n",
       "      <td>14.395</td>\n",
       "      <td>75</td>\n",
       "      <td>0.0000</td>\n",
       "      <td>3</td>\n",
       "      <td>10</td>\n",
       "      <td>13</td>\n",
       "    </tr>\n",
       "    <tr>\n",
       "      <th>4</th>\n",
       "      <td>2011-01-01 04:00:00</td>\n",
       "      <td>1</td>\n",
       "      <td>0</td>\n",
       "      <td>0</td>\n",
       "      <td>1</td>\n",
       "      <td>9.84</td>\n",
       "      <td>14.395</td>\n",
       "      <td>75</td>\n",
       "      <td>0.0000</td>\n",
       "      <td>0</td>\n",
       "      <td>1</td>\n",
       "      <td>1</td>\n",
       "    </tr>\n",
       "    <tr>\n",
       "      <th>...</th>\n",
       "      <td>...</td>\n",
       "      <td>...</td>\n",
       "      <td>...</td>\n",
       "      <td>...</td>\n",
       "      <td>...</td>\n",
       "      <td>...</td>\n",
       "      <td>...</td>\n",
       "      <td>...</td>\n",
       "      <td>...</td>\n",
       "      <td>...</td>\n",
       "      <td>...</td>\n",
       "      <td>...</td>\n",
       "    </tr>\n",
       "    <tr>\n",
       "      <th>10881</th>\n",
       "      <td>2012-12-19 19:00:00</td>\n",
       "      <td>4</td>\n",
       "      <td>0</td>\n",
       "      <td>1</td>\n",
       "      <td>1</td>\n",
       "      <td>15.58</td>\n",
       "      <td>19.695</td>\n",
       "      <td>50</td>\n",
       "      <td>26.0027</td>\n",
       "      <td>7</td>\n",
       "      <td>329</td>\n",
       "      <td>336</td>\n",
       "    </tr>\n",
       "    <tr>\n",
       "      <th>10882</th>\n",
       "      <td>2012-12-19 20:00:00</td>\n",
       "      <td>4</td>\n",
       "      <td>0</td>\n",
       "      <td>1</td>\n",
       "      <td>1</td>\n",
       "      <td>14.76</td>\n",
       "      <td>17.425</td>\n",
       "      <td>57</td>\n",
       "      <td>15.0013</td>\n",
       "      <td>10</td>\n",
       "      <td>231</td>\n",
       "      <td>241</td>\n",
       "    </tr>\n",
       "    <tr>\n",
       "      <th>10883</th>\n",
       "      <td>2012-12-19 21:00:00</td>\n",
       "      <td>4</td>\n",
       "      <td>0</td>\n",
       "      <td>1</td>\n",
       "      <td>1</td>\n",
       "      <td>13.94</td>\n",
       "      <td>15.910</td>\n",
       "      <td>61</td>\n",
       "      <td>15.0013</td>\n",
       "      <td>4</td>\n",
       "      <td>164</td>\n",
       "      <td>168</td>\n",
       "    </tr>\n",
       "    <tr>\n",
       "      <th>10884</th>\n",
       "      <td>2012-12-19 22:00:00</td>\n",
       "      <td>4</td>\n",
       "      <td>0</td>\n",
       "      <td>1</td>\n",
       "      <td>1</td>\n",
       "      <td>13.94</td>\n",
       "      <td>17.425</td>\n",
       "      <td>61</td>\n",
       "      <td>6.0032</td>\n",
       "      <td>12</td>\n",
       "      <td>117</td>\n",
       "      <td>129</td>\n",
       "    </tr>\n",
       "    <tr>\n",
       "      <th>10885</th>\n",
       "      <td>2012-12-19 23:00:00</td>\n",
       "      <td>4</td>\n",
       "      <td>0</td>\n",
       "      <td>1</td>\n",
       "      <td>1</td>\n",
       "      <td>13.12</td>\n",
       "      <td>16.665</td>\n",
       "      <td>66</td>\n",
       "      <td>8.9981</td>\n",
       "      <td>4</td>\n",
       "      <td>84</td>\n",
       "      <td>88</td>\n",
       "    </tr>\n",
       "  </tbody>\n",
       "</table>\n",
       "<p>10886 rows × 12 columns</p>\n",
       "</div>"
      ],
      "text/plain": [
       "                  datetime  season  holiday  workingday  weather   temp  \\\n",
       "0      2011-01-01 00:00:00       1        0           0        1   9.84   \n",
       "1      2011-01-01 01:00:00       1        0           0        1   9.02   \n",
       "2      2011-01-01 02:00:00       1        0           0        1   9.02   \n",
       "3      2011-01-01 03:00:00       1        0           0        1   9.84   \n",
       "4      2011-01-01 04:00:00       1        0           0        1   9.84   \n",
       "...                    ...     ...      ...         ...      ...    ...   \n",
       "10881  2012-12-19 19:00:00       4        0           1        1  15.58   \n",
       "10882  2012-12-19 20:00:00       4        0           1        1  14.76   \n",
       "10883  2012-12-19 21:00:00       4        0           1        1  13.94   \n",
       "10884  2012-12-19 22:00:00       4        0           1        1  13.94   \n",
       "10885  2012-12-19 23:00:00       4        0           1        1  13.12   \n",
       "\n",
       "        atemp  humidity  windspeed  casual  registered  count  \n",
       "0      14.395        81     0.0000       3          13     16  \n",
       "1      13.635        80     0.0000       8          32     40  \n",
       "2      13.635        80     0.0000       5          27     32  \n",
       "3      14.395        75     0.0000       3          10     13  \n",
       "4      14.395        75     0.0000       0           1      1  \n",
       "...       ...       ...        ...     ...         ...    ...  \n",
       "10881  19.695        50    26.0027       7         329    336  \n",
       "10882  17.425        57    15.0013      10         231    241  \n",
       "10883  15.910        61    15.0013       4         164    168  \n",
       "10884  17.425        61     6.0032      12         117    129  \n",
       "10885  16.665        66     8.9981       4          84     88  \n",
       "\n",
       "[10886 rows x 12 columns]"
      ]
     },
     "execution_count": 4,
     "metadata": {},
     "output_type": "execute_result"
    }
   ],
   "source": [
    "data"
   ]
  },
  {
   "cell_type": "code",
   "execution_count": null,
   "id": "bc02fa40",
   "metadata": {},
   "outputs": [],
   "source": []
  },
  {
   "cell_type": "code",
   "execution_count": null,
   "id": "d687dc3b",
   "metadata": {},
   "outputs": [],
   "source": []
  },
  {
   "cell_type": "markdown",
   "id": "2ea8cd4b",
   "metadata": {},
   "source": [
    "SHAPE OF DATA"
   ]
  },
  {
   "cell_type": "code",
   "execution_count": 5,
   "id": "bcc7ccbf",
   "metadata": {},
   "outputs": [
    {
     "data": {
      "text/plain": [
       "(10886, 12)"
      ]
     },
     "execution_count": 5,
     "metadata": {},
     "output_type": "execute_result"
    }
   ],
   "source": [
    "data.shape"
   ]
  },
  {
   "cell_type": "markdown",
   "id": "8391f6cf",
   "metadata": {},
   "source": [
    "THERE ARE TOTAL 10886 ROWS AND 12 UNIQUE COLUMNS."
   ]
  },
  {
   "cell_type": "code",
   "execution_count": null,
   "id": "817391e0",
   "metadata": {},
   "outputs": [],
   "source": []
  },
  {
   "cell_type": "code",
   "execution_count": null,
   "id": "fd3b519d",
   "metadata": {},
   "outputs": [],
   "source": []
  },
  {
   "cell_type": "markdown",
   "id": "2080f120",
   "metadata": {},
   "source": [
    "DATATYPES OF COLUMNS"
   ]
  },
  {
   "cell_type": "code",
   "execution_count": 6,
   "id": "70df2615",
   "metadata": {
    "scrolled": true
   },
   "outputs": [
    {
     "name": "stdout",
     "output_type": "stream",
     "text": [
      "<class 'pandas.core.frame.DataFrame'>\n",
      "RangeIndex: 10886 entries, 0 to 10885\n",
      "Data columns (total 12 columns):\n",
      " #   Column      Non-Null Count  Dtype  \n",
      "---  ------      --------------  -----  \n",
      " 0   datetime    10886 non-null  object \n",
      " 1   season      10886 non-null  int64  \n",
      " 2   holiday     10886 non-null  int64  \n",
      " 3   workingday  10886 non-null  int64  \n",
      " 4   weather     10886 non-null  int64  \n",
      " 5   temp        10886 non-null  float64\n",
      " 6   atemp       10886 non-null  float64\n",
      " 7   humidity    10886 non-null  int64  \n",
      " 8   windspeed   10886 non-null  float64\n",
      " 9   casual      10886 non-null  int64  \n",
      " 10  registered  10886 non-null  int64  \n",
      " 11  count       10886 non-null  int64  \n",
      "dtypes: float64(3), int64(8), object(1)\n",
      "memory usage: 1020.7+ KB\n"
     ]
    }
   ],
   "source": [
    "data.info()"
   ]
  },
  {
   "cell_type": "code",
   "execution_count": null,
   "id": "bfc2000c",
   "metadata": {},
   "outputs": [],
   "source": []
  },
  {
   "cell_type": "code",
   "execution_count": null,
   "id": "3544a32b",
   "metadata": {},
   "outputs": [],
   "source": []
  },
  {
   "cell_type": "markdown",
   "id": "d308ed63",
   "metadata": {},
   "source": [
    "DATATYPES CONVERSION"
   ]
  },
  {
   "cell_type": "code",
   "execution_count": null,
   "id": "dc835a2c",
   "metadata": {},
   "outputs": [],
   "source": []
  },
  {
   "cell_type": "markdown",
   "id": "bd3cc772",
   "metadata": {},
   "source": [
    "WE MAY OR MAY NOT CONVERT DATATYPES: \n",
    "\n",
    "NECESSITY OF DATATYPE CONVERSION IS NOT NEEDED AS ANALYSIS CAN BE DONE WITHOUT DOING SO.\n",
    "\n",
    "BUT WE NEED EXTRA COLUMN SEASON_NAME FOR BETTER ANALYSIS."
   ]
  },
  {
   "cell_type": "code",
   "execution_count": null,
   "id": "77c078a8",
   "metadata": {},
   "outputs": [],
   "source": []
  },
  {
   "cell_type": "code",
   "execution_count": 7,
   "id": "768b9616",
   "metadata": {},
   "outputs": [
    {
     "data": {
      "text/html": [
       "<div>\n",
       "<style scoped>\n",
       "    .dataframe tbody tr th:only-of-type {\n",
       "        vertical-align: middle;\n",
       "    }\n",
       "\n",
       "    .dataframe tbody tr th {\n",
       "        vertical-align: top;\n",
       "    }\n",
       "\n",
       "    .dataframe thead th {\n",
       "        text-align: right;\n",
       "    }\n",
       "</style>\n",
       "<table border=\"1\" class=\"dataframe\">\n",
       "  <thead>\n",
       "    <tr style=\"text-align: right;\">\n",
       "      <th></th>\n",
       "      <th>datetime</th>\n",
       "      <th>season</th>\n",
       "      <th>holiday</th>\n",
       "      <th>workingday</th>\n",
       "      <th>weather</th>\n",
       "      <th>temp</th>\n",
       "      <th>atemp</th>\n",
       "      <th>humidity</th>\n",
       "      <th>windspeed</th>\n",
       "      <th>casual</th>\n",
       "      <th>registered</th>\n",
       "      <th>count</th>\n",
       "    </tr>\n",
       "  </thead>\n",
       "  <tbody>\n",
       "    <tr>\n",
       "      <th>0</th>\n",
       "      <td>2011-01-01 00:00:00</td>\n",
       "      <td>1</td>\n",
       "      <td>0</td>\n",
       "      <td>0</td>\n",
       "      <td>1</td>\n",
       "      <td>9.84</td>\n",
       "      <td>14.395</td>\n",
       "      <td>81</td>\n",
       "      <td>0.0</td>\n",
       "      <td>3</td>\n",
       "      <td>13</td>\n",
       "      <td>16</td>\n",
       "    </tr>\n",
       "    <tr>\n",
       "      <th>1</th>\n",
       "      <td>2011-01-01 01:00:00</td>\n",
       "      <td>1</td>\n",
       "      <td>0</td>\n",
       "      <td>0</td>\n",
       "      <td>1</td>\n",
       "      <td>9.02</td>\n",
       "      <td>13.635</td>\n",
       "      <td>80</td>\n",
       "      <td>0.0</td>\n",
       "      <td>8</td>\n",
       "      <td>32</td>\n",
       "      <td>40</td>\n",
       "    </tr>\n",
       "    <tr>\n",
       "      <th>2</th>\n",
       "      <td>2011-01-01 02:00:00</td>\n",
       "      <td>1</td>\n",
       "      <td>0</td>\n",
       "      <td>0</td>\n",
       "      <td>1</td>\n",
       "      <td>9.02</td>\n",
       "      <td>13.635</td>\n",
       "      <td>80</td>\n",
       "      <td>0.0</td>\n",
       "      <td>5</td>\n",
       "      <td>27</td>\n",
       "      <td>32</td>\n",
       "    </tr>\n",
       "  </tbody>\n",
       "</table>\n",
       "</div>"
      ],
      "text/plain": [
       "              datetime  season  holiday  workingday  weather  temp   atemp  \\\n",
       "0  2011-01-01 00:00:00       1        0           0        1  9.84  14.395   \n",
       "1  2011-01-01 01:00:00       1        0           0        1  9.02  13.635   \n",
       "2  2011-01-01 02:00:00       1        0           0        1  9.02  13.635   \n",
       "\n",
       "   humidity  windspeed  casual  registered  count  \n",
       "0        81        0.0       3          13     16  \n",
       "1        80        0.0       8          32     40  \n",
       "2        80        0.0       5          27     32  "
      ]
     },
     "execution_count": 7,
     "metadata": {},
     "output_type": "execute_result"
    }
   ],
   "source": [
    "data.head(3)"
   ]
  },
  {
   "cell_type": "code",
   "execution_count": 8,
   "id": "7e134562",
   "metadata": {},
   "outputs": [
    {
     "data": {
      "text/plain": [
       "{1: 'spring', 2: 'summer', 3: 'fall', 4: 'winter'}"
      ]
     },
     "execution_count": 8,
     "metadata": {},
     "output_type": "execute_result"
    }
   ],
   "source": [
    "season_mapping = {1:'spring',2:'summer',3:'fall',4:'winter'}\n",
    "season_mapping"
   ]
  },
  {
   "cell_type": "code",
   "execution_count": 9,
   "id": "2bbd6cbf",
   "metadata": {},
   "outputs": [],
   "source": [
    "data['season_name'] = data['season'].map(season_mapping)"
   ]
  },
  {
   "cell_type": "code",
   "execution_count": 10,
   "id": "6f575200",
   "metadata": {},
   "outputs": [
    {
     "data": {
      "text/html": [
       "<div>\n",
       "<style scoped>\n",
       "    .dataframe tbody tr th:only-of-type {\n",
       "        vertical-align: middle;\n",
       "    }\n",
       "\n",
       "    .dataframe tbody tr th {\n",
       "        vertical-align: top;\n",
       "    }\n",
       "\n",
       "    .dataframe thead th {\n",
       "        text-align: right;\n",
       "    }\n",
       "</style>\n",
       "<table border=\"1\" class=\"dataframe\">\n",
       "  <thead>\n",
       "    <tr style=\"text-align: right;\">\n",
       "      <th></th>\n",
       "      <th>datetime</th>\n",
       "      <th>season</th>\n",
       "      <th>holiday</th>\n",
       "      <th>workingday</th>\n",
       "      <th>weather</th>\n",
       "      <th>temp</th>\n",
       "      <th>atemp</th>\n",
       "      <th>humidity</th>\n",
       "      <th>windspeed</th>\n",
       "      <th>casual</th>\n",
       "      <th>registered</th>\n",
       "      <th>count</th>\n",
       "      <th>season_name</th>\n",
       "    </tr>\n",
       "  </thead>\n",
       "  <tbody>\n",
       "    <tr>\n",
       "      <th>0</th>\n",
       "      <td>2011-01-01 00:00:00</td>\n",
       "      <td>1</td>\n",
       "      <td>0</td>\n",
       "      <td>0</td>\n",
       "      <td>1</td>\n",
       "      <td>9.84</td>\n",
       "      <td>14.395</td>\n",
       "      <td>81</td>\n",
       "      <td>0.0</td>\n",
       "      <td>3</td>\n",
       "      <td>13</td>\n",
       "      <td>16</td>\n",
       "      <td>spring</td>\n",
       "    </tr>\n",
       "    <tr>\n",
       "      <th>1</th>\n",
       "      <td>2011-01-01 01:00:00</td>\n",
       "      <td>1</td>\n",
       "      <td>0</td>\n",
       "      <td>0</td>\n",
       "      <td>1</td>\n",
       "      <td>9.02</td>\n",
       "      <td>13.635</td>\n",
       "      <td>80</td>\n",
       "      <td>0.0</td>\n",
       "      <td>8</td>\n",
       "      <td>32</td>\n",
       "      <td>40</td>\n",
       "      <td>spring</td>\n",
       "    </tr>\n",
       "    <tr>\n",
       "      <th>2</th>\n",
       "      <td>2011-01-01 02:00:00</td>\n",
       "      <td>1</td>\n",
       "      <td>0</td>\n",
       "      <td>0</td>\n",
       "      <td>1</td>\n",
       "      <td>9.02</td>\n",
       "      <td>13.635</td>\n",
       "      <td>80</td>\n",
       "      <td>0.0</td>\n",
       "      <td>5</td>\n",
       "      <td>27</td>\n",
       "      <td>32</td>\n",
       "      <td>spring</td>\n",
       "    </tr>\n",
       "    <tr>\n",
       "      <th>3</th>\n",
       "      <td>2011-01-01 03:00:00</td>\n",
       "      <td>1</td>\n",
       "      <td>0</td>\n",
       "      <td>0</td>\n",
       "      <td>1</td>\n",
       "      <td>9.84</td>\n",
       "      <td>14.395</td>\n",
       "      <td>75</td>\n",
       "      <td>0.0</td>\n",
       "      <td>3</td>\n",
       "      <td>10</td>\n",
       "      <td>13</td>\n",
       "      <td>spring</td>\n",
       "    </tr>\n",
       "    <tr>\n",
       "      <th>4</th>\n",
       "      <td>2011-01-01 04:00:00</td>\n",
       "      <td>1</td>\n",
       "      <td>0</td>\n",
       "      <td>0</td>\n",
       "      <td>1</td>\n",
       "      <td>9.84</td>\n",
       "      <td>14.395</td>\n",
       "      <td>75</td>\n",
       "      <td>0.0</td>\n",
       "      <td>0</td>\n",
       "      <td>1</td>\n",
       "      <td>1</td>\n",
       "      <td>spring</td>\n",
       "    </tr>\n",
       "  </tbody>\n",
       "</table>\n",
       "</div>"
      ],
      "text/plain": [
       "              datetime  season  holiday  workingday  weather  temp   atemp  \\\n",
       "0  2011-01-01 00:00:00       1        0           0        1  9.84  14.395   \n",
       "1  2011-01-01 01:00:00       1        0           0        1  9.02  13.635   \n",
       "2  2011-01-01 02:00:00       1        0           0        1  9.02  13.635   \n",
       "3  2011-01-01 03:00:00       1        0           0        1  9.84  14.395   \n",
       "4  2011-01-01 04:00:00       1        0           0        1  9.84  14.395   \n",
       "\n",
       "   humidity  windspeed  casual  registered  count season_name  \n",
       "0        81        0.0       3          13     16      spring  \n",
       "1        80        0.0       8          32     40      spring  \n",
       "2        80        0.0       5          27     32      spring  \n",
       "3        75        0.0       3          10     13      spring  \n",
       "4        75        0.0       0           1      1      spring  "
      ]
     },
     "execution_count": 10,
     "metadata": {},
     "output_type": "execute_result"
    }
   ],
   "source": [
    "data.head()"
   ]
  },
  {
   "cell_type": "code",
   "execution_count": null,
   "id": "86f6698b",
   "metadata": {},
   "outputs": [],
   "source": []
  },
  {
   "cell_type": "code",
   "execution_count": null,
   "id": "3618f090",
   "metadata": {},
   "outputs": [],
   "source": []
  },
  {
   "cell_type": "code",
   "execution_count": null,
   "id": "a82d0af8",
   "metadata": {},
   "outputs": [],
   "source": []
  },
  {
   "cell_type": "markdown",
   "id": "f746ec78",
   "metadata": {},
   "source": [
    "DISTRIBUTION OF DATA  ALONG ALL COLUMNS"
   ]
  },
  {
   "cell_type": "code",
   "execution_count": 11,
   "id": "b9b6bd0b",
   "metadata": {},
   "outputs": [
    {
     "data": {
      "text/html": [
       "<div>\n",
       "<style scoped>\n",
       "    .dataframe tbody tr th:only-of-type {\n",
       "        vertical-align: middle;\n",
       "    }\n",
       "\n",
       "    .dataframe tbody tr th {\n",
       "        vertical-align: top;\n",
       "    }\n",
       "\n",
       "    .dataframe thead th {\n",
       "        text-align: right;\n",
       "    }\n",
       "</style>\n",
       "<table border=\"1\" class=\"dataframe\">\n",
       "  <thead>\n",
       "    <tr style=\"text-align: right;\">\n",
       "      <th></th>\n",
       "      <th>datetime</th>\n",
       "      <th>season</th>\n",
       "      <th>holiday</th>\n",
       "      <th>workingday</th>\n",
       "      <th>weather</th>\n",
       "      <th>temp</th>\n",
       "      <th>atemp</th>\n",
       "      <th>humidity</th>\n",
       "      <th>windspeed</th>\n",
       "      <th>casual</th>\n",
       "      <th>registered</th>\n",
       "      <th>count</th>\n",
       "      <th>season_name</th>\n",
       "    </tr>\n",
       "  </thead>\n",
       "  <tbody>\n",
       "    <tr>\n",
       "      <th>count</th>\n",
       "      <td>10886</td>\n",
       "      <td>10886.000000</td>\n",
       "      <td>10886.000000</td>\n",
       "      <td>10886.000000</td>\n",
       "      <td>10886.000000</td>\n",
       "      <td>10886.00000</td>\n",
       "      <td>10886.000000</td>\n",
       "      <td>10886.000000</td>\n",
       "      <td>10886.000000</td>\n",
       "      <td>10886.000000</td>\n",
       "      <td>10886.000000</td>\n",
       "      <td>10886.000000</td>\n",
       "      <td>10886</td>\n",
       "    </tr>\n",
       "    <tr>\n",
       "      <th>unique</th>\n",
       "      <td>10886</td>\n",
       "      <td>NaN</td>\n",
       "      <td>NaN</td>\n",
       "      <td>NaN</td>\n",
       "      <td>NaN</td>\n",
       "      <td>NaN</td>\n",
       "      <td>NaN</td>\n",
       "      <td>NaN</td>\n",
       "      <td>NaN</td>\n",
       "      <td>NaN</td>\n",
       "      <td>NaN</td>\n",
       "      <td>NaN</td>\n",
       "      <td>4</td>\n",
       "    </tr>\n",
       "    <tr>\n",
       "      <th>top</th>\n",
       "      <td>2011-01-01 00:00:00</td>\n",
       "      <td>NaN</td>\n",
       "      <td>NaN</td>\n",
       "      <td>NaN</td>\n",
       "      <td>NaN</td>\n",
       "      <td>NaN</td>\n",
       "      <td>NaN</td>\n",
       "      <td>NaN</td>\n",
       "      <td>NaN</td>\n",
       "      <td>NaN</td>\n",
       "      <td>NaN</td>\n",
       "      <td>NaN</td>\n",
       "      <td>winter</td>\n",
       "    </tr>\n",
       "    <tr>\n",
       "      <th>freq</th>\n",
       "      <td>1</td>\n",
       "      <td>NaN</td>\n",
       "      <td>NaN</td>\n",
       "      <td>NaN</td>\n",
       "      <td>NaN</td>\n",
       "      <td>NaN</td>\n",
       "      <td>NaN</td>\n",
       "      <td>NaN</td>\n",
       "      <td>NaN</td>\n",
       "      <td>NaN</td>\n",
       "      <td>NaN</td>\n",
       "      <td>NaN</td>\n",
       "      <td>2734</td>\n",
       "    </tr>\n",
       "    <tr>\n",
       "      <th>mean</th>\n",
       "      <td>NaN</td>\n",
       "      <td>2.506614</td>\n",
       "      <td>0.028569</td>\n",
       "      <td>0.680875</td>\n",
       "      <td>1.418427</td>\n",
       "      <td>20.23086</td>\n",
       "      <td>23.655084</td>\n",
       "      <td>61.886460</td>\n",
       "      <td>12.799395</td>\n",
       "      <td>36.021955</td>\n",
       "      <td>155.552177</td>\n",
       "      <td>191.574132</td>\n",
       "      <td>NaN</td>\n",
       "    </tr>\n",
       "    <tr>\n",
       "      <th>std</th>\n",
       "      <td>NaN</td>\n",
       "      <td>1.116174</td>\n",
       "      <td>0.166599</td>\n",
       "      <td>0.466159</td>\n",
       "      <td>0.633839</td>\n",
       "      <td>7.79159</td>\n",
       "      <td>8.474601</td>\n",
       "      <td>19.245033</td>\n",
       "      <td>8.164537</td>\n",
       "      <td>49.960477</td>\n",
       "      <td>151.039033</td>\n",
       "      <td>181.144454</td>\n",
       "      <td>NaN</td>\n",
       "    </tr>\n",
       "    <tr>\n",
       "      <th>min</th>\n",
       "      <td>NaN</td>\n",
       "      <td>1.000000</td>\n",
       "      <td>0.000000</td>\n",
       "      <td>0.000000</td>\n",
       "      <td>1.000000</td>\n",
       "      <td>0.82000</td>\n",
       "      <td>0.760000</td>\n",
       "      <td>0.000000</td>\n",
       "      <td>0.000000</td>\n",
       "      <td>0.000000</td>\n",
       "      <td>0.000000</td>\n",
       "      <td>1.000000</td>\n",
       "      <td>NaN</td>\n",
       "    </tr>\n",
       "    <tr>\n",
       "      <th>25%</th>\n",
       "      <td>NaN</td>\n",
       "      <td>2.000000</td>\n",
       "      <td>0.000000</td>\n",
       "      <td>0.000000</td>\n",
       "      <td>1.000000</td>\n",
       "      <td>13.94000</td>\n",
       "      <td>16.665000</td>\n",
       "      <td>47.000000</td>\n",
       "      <td>7.001500</td>\n",
       "      <td>4.000000</td>\n",
       "      <td>36.000000</td>\n",
       "      <td>42.000000</td>\n",
       "      <td>NaN</td>\n",
       "    </tr>\n",
       "    <tr>\n",
       "      <th>50%</th>\n",
       "      <td>NaN</td>\n",
       "      <td>3.000000</td>\n",
       "      <td>0.000000</td>\n",
       "      <td>1.000000</td>\n",
       "      <td>1.000000</td>\n",
       "      <td>20.50000</td>\n",
       "      <td>24.240000</td>\n",
       "      <td>62.000000</td>\n",
       "      <td>12.998000</td>\n",
       "      <td>17.000000</td>\n",
       "      <td>118.000000</td>\n",
       "      <td>145.000000</td>\n",
       "      <td>NaN</td>\n",
       "    </tr>\n",
       "    <tr>\n",
       "      <th>75%</th>\n",
       "      <td>NaN</td>\n",
       "      <td>4.000000</td>\n",
       "      <td>0.000000</td>\n",
       "      <td>1.000000</td>\n",
       "      <td>2.000000</td>\n",
       "      <td>26.24000</td>\n",
       "      <td>31.060000</td>\n",
       "      <td>77.000000</td>\n",
       "      <td>16.997900</td>\n",
       "      <td>49.000000</td>\n",
       "      <td>222.000000</td>\n",
       "      <td>284.000000</td>\n",
       "      <td>NaN</td>\n",
       "    </tr>\n",
       "    <tr>\n",
       "      <th>max</th>\n",
       "      <td>NaN</td>\n",
       "      <td>4.000000</td>\n",
       "      <td>1.000000</td>\n",
       "      <td>1.000000</td>\n",
       "      <td>4.000000</td>\n",
       "      <td>41.00000</td>\n",
       "      <td>45.455000</td>\n",
       "      <td>100.000000</td>\n",
       "      <td>56.996900</td>\n",
       "      <td>367.000000</td>\n",
       "      <td>886.000000</td>\n",
       "      <td>977.000000</td>\n",
       "      <td>NaN</td>\n",
       "    </tr>\n",
       "  </tbody>\n",
       "</table>\n",
       "</div>"
      ],
      "text/plain": [
       "                   datetime        season       holiday    workingday  \\\n",
       "count                 10886  10886.000000  10886.000000  10886.000000   \n",
       "unique                10886           NaN           NaN           NaN   \n",
       "top     2011-01-01 00:00:00           NaN           NaN           NaN   \n",
       "freq                      1           NaN           NaN           NaN   \n",
       "mean                    NaN      2.506614      0.028569      0.680875   \n",
       "std                     NaN      1.116174      0.166599      0.466159   \n",
       "min                     NaN      1.000000      0.000000      0.000000   \n",
       "25%                     NaN      2.000000      0.000000      0.000000   \n",
       "50%                     NaN      3.000000      0.000000      1.000000   \n",
       "75%                     NaN      4.000000      0.000000      1.000000   \n",
       "max                     NaN      4.000000      1.000000      1.000000   \n",
       "\n",
       "             weather         temp         atemp      humidity     windspeed  \\\n",
       "count   10886.000000  10886.00000  10886.000000  10886.000000  10886.000000   \n",
       "unique           NaN          NaN           NaN           NaN           NaN   \n",
       "top              NaN          NaN           NaN           NaN           NaN   \n",
       "freq             NaN          NaN           NaN           NaN           NaN   \n",
       "mean        1.418427     20.23086     23.655084     61.886460     12.799395   \n",
       "std         0.633839      7.79159      8.474601     19.245033      8.164537   \n",
       "min         1.000000      0.82000      0.760000      0.000000      0.000000   \n",
       "25%         1.000000     13.94000     16.665000     47.000000      7.001500   \n",
       "50%         1.000000     20.50000     24.240000     62.000000     12.998000   \n",
       "75%         2.000000     26.24000     31.060000     77.000000     16.997900   \n",
       "max         4.000000     41.00000     45.455000    100.000000     56.996900   \n",
       "\n",
       "              casual    registered         count season_name  \n",
       "count   10886.000000  10886.000000  10886.000000       10886  \n",
       "unique           NaN           NaN           NaN           4  \n",
       "top              NaN           NaN           NaN      winter  \n",
       "freq             NaN           NaN           NaN        2734  \n",
       "mean       36.021955    155.552177    191.574132         NaN  \n",
       "std        49.960477    151.039033    181.144454         NaN  \n",
       "min         0.000000      0.000000      1.000000         NaN  \n",
       "25%         4.000000     36.000000     42.000000         NaN  \n",
       "50%        17.000000    118.000000    145.000000         NaN  \n",
       "75%        49.000000    222.000000    284.000000         NaN  \n",
       "max       367.000000    886.000000    977.000000         NaN  "
      ]
     },
     "execution_count": 11,
     "metadata": {},
     "output_type": "execute_result"
    }
   ],
   "source": [
    "data.describe(include='all')"
   ]
  },
  {
   "cell_type": "code",
   "execution_count": null,
   "id": "b4321e37",
   "metadata": {},
   "outputs": [],
   "source": []
  },
  {
   "cell_type": "code",
   "execution_count": null,
   "id": "24a5c7b3",
   "metadata": {},
   "outputs": [],
   "source": []
  },
  {
   "cell_type": "markdown",
   "id": "0e099c8d",
   "metadata": {},
   "source": [
    "CHECKING FOR NULL VALUES"
   ]
  },
  {
   "cell_type": "code",
   "execution_count": 12,
   "id": "4bbb7a7d",
   "metadata": {},
   "outputs": [
    {
     "data": {
      "text/plain": [
       "datetime       0\n",
       "season         0\n",
       "holiday        0\n",
       "workingday     0\n",
       "weather        0\n",
       "temp           0\n",
       "atemp          0\n",
       "humidity       0\n",
       "windspeed      0\n",
       "casual         0\n",
       "registered     0\n",
       "count          0\n",
       "season_name    0\n",
       "dtype: int64"
      ]
     },
     "execution_count": 12,
     "metadata": {},
     "output_type": "execute_result"
    }
   ],
   "source": [
    "data.isna().sum()"
   ]
  },
  {
   "cell_type": "markdown",
   "id": "41c53ded",
   "metadata": {},
   "source": [
    "#### THERE IS NO NULL VALUES IN THE DATA"
   ]
  },
  {
   "cell_type": "code",
   "execution_count": null,
   "id": "c6ce4c22",
   "metadata": {},
   "outputs": [],
   "source": []
  },
  {
   "cell_type": "code",
   "execution_count": null,
   "id": "f519b438",
   "metadata": {},
   "outputs": [],
   "source": []
  },
  {
   "cell_type": "markdown",
   "id": "084930e8",
   "metadata": {},
   "source": [
    "UNIQUE VALUES AMONG COLUMNS"
   ]
  },
  {
   "cell_type": "code",
   "execution_count": 13,
   "id": "1d3929da",
   "metadata": {
    "scrolled": false
   },
   "outputs": [
    {
     "data": {
      "text/plain": [
       "datetime       10886\n",
       "season             4\n",
       "holiday            2\n",
       "workingday         2\n",
       "weather            4\n",
       "temp              49\n",
       "atemp             60\n",
       "humidity          89\n",
       "windspeed         28\n",
       "casual           309\n",
       "registered       731\n",
       "count            822\n",
       "season_name        4\n",
       "dtype: int64"
      ]
     },
     "execution_count": 13,
     "metadata": {},
     "output_type": "execute_result"
    }
   ],
   "source": [
    "data.nunique(axis=0)"
   ]
  },
  {
   "cell_type": "code",
   "execution_count": null,
   "id": "c522c9e1",
   "metadata": {},
   "outputs": [],
   "source": []
  },
  {
   "cell_type": "code",
   "execution_count": null,
   "id": "3baaabe3",
   "metadata": {},
   "outputs": [],
   "source": []
  },
  {
   "cell_type": "code",
   "execution_count": null,
   "id": "63982f1c",
   "metadata": {},
   "outputs": [],
   "source": []
  },
  {
   "cell_type": "markdown",
   "id": "42dd4c2b",
   "metadata": {},
   "source": [
    "### UNIVARIATE ANALYSIS"
   ]
  },
  {
   "cell_type": "code",
   "execution_count": 14,
   "id": "370269b2",
   "metadata": {},
   "outputs": [
    {
     "data": {
      "text/html": [
       "<div>\n",
       "<style scoped>\n",
       "    .dataframe tbody tr th:only-of-type {\n",
       "        vertical-align: middle;\n",
       "    }\n",
       "\n",
       "    .dataframe tbody tr th {\n",
       "        vertical-align: top;\n",
       "    }\n",
       "\n",
       "    .dataframe thead th {\n",
       "        text-align: right;\n",
       "    }\n",
       "</style>\n",
       "<table border=\"1\" class=\"dataframe\">\n",
       "  <thead>\n",
       "    <tr style=\"text-align: right;\">\n",
       "      <th></th>\n",
       "      <th>datetime</th>\n",
       "      <th>season</th>\n",
       "      <th>holiday</th>\n",
       "      <th>workingday</th>\n",
       "      <th>weather</th>\n",
       "      <th>temp</th>\n",
       "      <th>atemp</th>\n",
       "      <th>humidity</th>\n",
       "      <th>windspeed</th>\n",
       "      <th>casual</th>\n",
       "      <th>registered</th>\n",
       "      <th>count</th>\n",
       "      <th>season_name</th>\n",
       "    </tr>\n",
       "  </thead>\n",
       "  <tbody>\n",
       "    <tr>\n",
       "      <th>0</th>\n",
       "      <td>2011-01-01 00:00:00</td>\n",
       "      <td>1</td>\n",
       "      <td>0</td>\n",
       "      <td>0</td>\n",
       "      <td>1</td>\n",
       "      <td>9.84</td>\n",
       "      <td>14.395</td>\n",
       "      <td>81</td>\n",
       "      <td>0.0000</td>\n",
       "      <td>3</td>\n",
       "      <td>13</td>\n",
       "      <td>16</td>\n",
       "      <td>spring</td>\n",
       "    </tr>\n",
       "    <tr>\n",
       "      <th>1</th>\n",
       "      <td>2011-01-01 01:00:00</td>\n",
       "      <td>1</td>\n",
       "      <td>0</td>\n",
       "      <td>0</td>\n",
       "      <td>1</td>\n",
       "      <td>9.02</td>\n",
       "      <td>13.635</td>\n",
       "      <td>80</td>\n",
       "      <td>0.0000</td>\n",
       "      <td>8</td>\n",
       "      <td>32</td>\n",
       "      <td>40</td>\n",
       "      <td>spring</td>\n",
       "    </tr>\n",
       "    <tr>\n",
       "      <th>2</th>\n",
       "      <td>2011-01-01 02:00:00</td>\n",
       "      <td>1</td>\n",
       "      <td>0</td>\n",
       "      <td>0</td>\n",
       "      <td>1</td>\n",
       "      <td>9.02</td>\n",
       "      <td>13.635</td>\n",
       "      <td>80</td>\n",
       "      <td>0.0000</td>\n",
       "      <td>5</td>\n",
       "      <td>27</td>\n",
       "      <td>32</td>\n",
       "      <td>spring</td>\n",
       "    </tr>\n",
       "    <tr>\n",
       "      <th>3</th>\n",
       "      <td>2011-01-01 03:00:00</td>\n",
       "      <td>1</td>\n",
       "      <td>0</td>\n",
       "      <td>0</td>\n",
       "      <td>1</td>\n",
       "      <td>9.84</td>\n",
       "      <td>14.395</td>\n",
       "      <td>75</td>\n",
       "      <td>0.0000</td>\n",
       "      <td>3</td>\n",
       "      <td>10</td>\n",
       "      <td>13</td>\n",
       "      <td>spring</td>\n",
       "    </tr>\n",
       "    <tr>\n",
       "      <th>4</th>\n",
       "      <td>2011-01-01 04:00:00</td>\n",
       "      <td>1</td>\n",
       "      <td>0</td>\n",
       "      <td>0</td>\n",
       "      <td>1</td>\n",
       "      <td>9.84</td>\n",
       "      <td>14.395</td>\n",
       "      <td>75</td>\n",
       "      <td>0.0000</td>\n",
       "      <td>0</td>\n",
       "      <td>1</td>\n",
       "      <td>1</td>\n",
       "      <td>spring</td>\n",
       "    </tr>\n",
       "    <tr>\n",
       "      <th>...</th>\n",
       "      <td>...</td>\n",
       "      <td>...</td>\n",
       "      <td>...</td>\n",
       "      <td>...</td>\n",
       "      <td>...</td>\n",
       "      <td>...</td>\n",
       "      <td>...</td>\n",
       "      <td>...</td>\n",
       "      <td>...</td>\n",
       "      <td>...</td>\n",
       "      <td>...</td>\n",
       "      <td>...</td>\n",
       "      <td>...</td>\n",
       "    </tr>\n",
       "    <tr>\n",
       "      <th>10881</th>\n",
       "      <td>2012-12-19 19:00:00</td>\n",
       "      <td>4</td>\n",
       "      <td>0</td>\n",
       "      <td>1</td>\n",
       "      <td>1</td>\n",
       "      <td>15.58</td>\n",
       "      <td>19.695</td>\n",
       "      <td>50</td>\n",
       "      <td>26.0027</td>\n",
       "      <td>7</td>\n",
       "      <td>329</td>\n",
       "      <td>336</td>\n",
       "      <td>winter</td>\n",
       "    </tr>\n",
       "    <tr>\n",
       "      <th>10882</th>\n",
       "      <td>2012-12-19 20:00:00</td>\n",
       "      <td>4</td>\n",
       "      <td>0</td>\n",
       "      <td>1</td>\n",
       "      <td>1</td>\n",
       "      <td>14.76</td>\n",
       "      <td>17.425</td>\n",
       "      <td>57</td>\n",
       "      <td>15.0013</td>\n",
       "      <td>10</td>\n",
       "      <td>231</td>\n",
       "      <td>241</td>\n",
       "      <td>winter</td>\n",
       "    </tr>\n",
       "    <tr>\n",
       "      <th>10883</th>\n",
       "      <td>2012-12-19 21:00:00</td>\n",
       "      <td>4</td>\n",
       "      <td>0</td>\n",
       "      <td>1</td>\n",
       "      <td>1</td>\n",
       "      <td>13.94</td>\n",
       "      <td>15.910</td>\n",
       "      <td>61</td>\n",
       "      <td>15.0013</td>\n",
       "      <td>4</td>\n",
       "      <td>164</td>\n",
       "      <td>168</td>\n",
       "      <td>winter</td>\n",
       "    </tr>\n",
       "    <tr>\n",
       "      <th>10884</th>\n",
       "      <td>2012-12-19 22:00:00</td>\n",
       "      <td>4</td>\n",
       "      <td>0</td>\n",
       "      <td>1</td>\n",
       "      <td>1</td>\n",
       "      <td>13.94</td>\n",
       "      <td>17.425</td>\n",
       "      <td>61</td>\n",
       "      <td>6.0032</td>\n",
       "      <td>12</td>\n",
       "      <td>117</td>\n",
       "      <td>129</td>\n",
       "      <td>winter</td>\n",
       "    </tr>\n",
       "    <tr>\n",
       "      <th>10885</th>\n",
       "      <td>2012-12-19 23:00:00</td>\n",
       "      <td>4</td>\n",
       "      <td>0</td>\n",
       "      <td>1</td>\n",
       "      <td>1</td>\n",
       "      <td>13.12</td>\n",
       "      <td>16.665</td>\n",
       "      <td>66</td>\n",
       "      <td>8.9981</td>\n",
       "      <td>4</td>\n",
       "      <td>84</td>\n",
       "      <td>88</td>\n",
       "      <td>winter</td>\n",
       "    </tr>\n",
       "  </tbody>\n",
       "</table>\n",
       "<p>10886 rows × 13 columns</p>\n",
       "</div>"
      ],
      "text/plain": [
       "                  datetime  season  holiday  workingday  weather   temp  \\\n",
       "0      2011-01-01 00:00:00       1        0           0        1   9.84   \n",
       "1      2011-01-01 01:00:00       1        0           0        1   9.02   \n",
       "2      2011-01-01 02:00:00       1        0           0        1   9.02   \n",
       "3      2011-01-01 03:00:00       1        0           0        1   9.84   \n",
       "4      2011-01-01 04:00:00       1        0           0        1   9.84   \n",
       "...                    ...     ...      ...         ...      ...    ...   \n",
       "10881  2012-12-19 19:00:00       4        0           1        1  15.58   \n",
       "10882  2012-12-19 20:00:00       4        0           1        1  14.76   \n",
       "10883  2012-12-19 21:00:00       4        0           1        1  13.94   \n",
       "10884  2012-12-19 22:00:00       4        0           1        1  13.94   \n",
       "10885  2012-12-19 23:00:00       4        0           1        1  13.12   \n",
       "\n",
       "        atemp  humidity  windspeed  casual  registered  count season_name  \n",
       "0      14.395        81     0.0000       3          13     16      spring  \n",
       "1      13.635        80     0.0000       8          32     40      spring  \n",
       "2      13.635        80     0.0000       5          27     32      spring  \n",
       "3      14.395        75     0.0000       3          10     13      spring  \n",
       "4      14.395        75     0.0000       0           1      1      spring  \n",
       "...       ...       ...        ...     ...         ...    ...         ...  \n",
       "10881  19.695        50    26.0027       7         329    336      winter  \n",
       "10882  17.425        57    15.0013      10         231    241      winter  \n",
       "10883  15.910        61    15.0013       4         164    168      winter  \n",
       "10884  17.425        61     6.0032      12         117    129      winter  \n",
       "10885  16.665        66     8.9981       4          84     88      winter  \n",
       "\n",
       "[10886 rows x 13 columns]"
      ]
     },
     "execution_count": 14,
     "metadata": {},
     "output_type": "execute_result"
    }
   ],
   "source": [
    "data"
   ]
  },
  {
   "cell_type": "code",
   "execution_count": null,
   "id": "c332e60c",
   "metadata": {},
   "outputs": [],
   "source": []
  },
  {
   "cell_type": "code",
   "execution_count": null,
   "id": "9c751084",
   "metadata": {},
   "outputs": [],
   "source": []
  },
  {
   "cell_type": "markdown",
   "id": "2e896fe2",
   "metadata": {},
   "source": [
    "#### FOR SEASON"
   ]
  },
  {
   "cell_type": "code",
   "execution_count": 15,
   "id": "a0d8fcae",
   "metadata": {},
   "outputs": [
    {
     "data": {
      "text/plain": [
       "<AxesSubplot:xlabel='season', ylabel='count'>"
      ]
     },
     "execution_count": 15,
     "metadata": {},
     "output_type": "execute_result"
    },
    {
     "data": {
      "image/png": "[encoded data removed]",
      "text/plain": [
       "<Figure size 432x288 with 1 Axes>"
      ]
     },
     "metadata": {
      "needs_background": "light"
     },
     "output_type": "display_data"
    }
   ],
   "source": [
    "sns.countplot(data=data,x='season')"
   ]
  },
  {
   "cell_type": "code",
   "execution_count": 16,
   "id": "6275cff2",
   "metadata": {},
   "outputs": [
    {
     "data": {
      "text/plain": [
       "4    2734\n",
       "2    2733\n",
       "3    2733\n",
       "1    2686\n",
       "Name: season, dtype: int64"
      ]
     },
     "execution_count": 16,
     "metadata": {},
     "output_type": "execute_result"
    }
   ],
   "source": [
    "data['season'].value_counts()"
   ]
  },
  {
   "cell_type": "markdown",
   "id": "d7b68b33",
   "metadata": {},
   "source": [
    "##### OBSERVATIONS :\n",
    "\n",
    "ALL SEASON HAVE ALMOST EQUAL NUMBER OF DATA."
   ]
  },
  {
   "cell_type": "code",
   "execution_count": null,
   "id": "7e0f207a",
   "metadata": {},
   "outputs": [],
   "source": []
  },
  {
   "cell_type": "code",
   "execution_count": null,
   "id": "7fb8fc2c",
   "metadata": {},
   "outputs": [],
   "source": []
  },
  {
   "cell_type": "markdown",
   "id": "a2d20ad3",
   "metadata": {},
   "source": [
    "#### FOR HOLIDAY"
   ]
  },
  {
   "cell_type": "code",
   "execution_count": 17,
   "id": "ced708c9",
   "metadata": {},
   "outputs": [
    {
     "data": {
      "text/plain": [
       "<AxesSubplot:xlabel='holiday', ylabel='count'>"
      ]
     },
     "execution_count": 17,
     "metadata": {},
     "output_type": "execute_result"
    },
    {
     "data": {
      "image/png": "[encoded data removed]",
      "text/plain": [
       "<Figure size 432x288 with 1 Axes>"
      ]
     },
     "metadata": {
      "needs_background": "light"
     },
     "output_type": "display_data"
    }
   ],
   "source": [
    "sns.countplot(data=data,x='holiday',palette='deep')"
   ]
  },
  {
   "cell_type": "code",
   "execution_count": 205,
   "id": "bae822a1",
   "metadata": {},
   "outputs": [
    {
     "data": {
      "text/plain": [
       "0    97.14312\n",
       "1     2.85688\n",
       "Name: holiday, dtype: float64"
      ]
     },
     "execution_count": 205,
     "metadata": {},
     "output_type": "execute_result"
    }
   ],
   "source": [
    "data['holiday'].value_counts(normalize=True)*100"
   ]
  },
  {
   "cell_type": "markdown",
   "id": "699c56b2",
   "metadata": {},
   "source": [
    "##### OBSERVATIONS :\n",
    "\n",
    "PEOPLE USED THE RENTAL BIKES MORE IN NON HOLIDAY i.e. 97%. "
   ]
  },
  {
   "cell_type": "code",
   "execution_count": null,
   "id": "9baa015b",
   "metadata": {},
   "outputs": [],
   "source": []
  },
  {
   "cell_type": "code",
   "execution_count": null,
   "id": "e54a7e97",
   "metadata": {},
   "outputs": [],
   "source": []
  },
  {
   "cell_type": "markdown",
   "id": "0f1c7c44",
   "metadata": {},
   "source": [
    "#### FOR WORKING DAY"
   ]
  },
  {
   "cell_type": "code",
   "execution_count": 18,
   "id": "6cc38f65",
   "metadata": {},
   "outputs": [
    {
     "data": {
      "text/plain": [
       "<AxesSubplot:xlabel='workingday', ylabel='count'>"
      ]
     },
     "execution_count": 18,
     "metadata": {},
     "output_type": "execute_result"
    },
    {
     "data": {
      "image/png": "[encoded data removed]",
      "text/plain": [
       "<Figure size 432x288 with 1 Axes>"
      ]
     },
     "metadata": {
      "needs_background": "light"
     },
     "output_type": "display_data"
    }
   ],
   "source": [
    "sns.countplot(data=data,x='workingday',palette='deep')"
   ]
  },
  {
   "cell_type": "code",
   "execution_count": 208,
   "id": "b5e9793f",
   "metadata": {},
   "outputs": [
    {
     "data": {
      "text/plain": [
       "1    68.087452\n",
       "0    31.912548\n",
       "Name: workingday, dtype: float64"
      ]
     },
     "execution_count": 208,
     "metadata": {},
     "output_type": "execute_result"
    }
   ],
   "source": [
    "data['workingday'].value_counts(normalize=True)*100"
   ]
  },
  {
   "cell_type": "markdown",
   "id": "99687ea4",
   "metadata": {},
   "source": [
    "##### OBSERVATIONS :\n",
    "\n",
    "PEOPLE PREFER THE RENTAL BIKES MORE IN WORKING-DAY i.e. 68%."
   ]
  },
  {
   "cell_type": "code",
   "execution_count": null,
   "id": "9e1e5f23",
   "metadata": {},
   "outputs": [],
   "source": []
  },
  {
   "cell_type": "code",
   "execution_count": null,
   "id": "5a75bc02",
   "metadata": {},
   "outputs": [],
   "source": []
  },
  {
   "cell_type": "markdown",
   "id": "15044af4",
   "metadata": {},
   "source": [
    "#### FOR WEATHER"
   ]
  },
  {
   "cell_type": "code",
   "execution_count": 19,
   "id": "96724d12",
   "metadata": {},
   "outputs": [
    {
     "data": {
      "text/plain": [
       "<AxesSubplot:xlabel='weather', ylabel='count'>"
      ]
     },
     "execution_count": 19,
     "metadata": {},
     "output_type": "execute_result"
    },
    {
     "data": {
      "image/png": "[encoded data removed]",
      "text/plain": [
       "<Figure size 432x288 with 1 Axes>"
      ]
     },
     "metadata": {
      "needs_background": "light"
     },
     "output_type": "display_data"
    }
   ],
   "source": [
    "sns.countplot(data=data,x='weather',palette='deep')"
   ]
  },
  {
   "cell_type": "code",
   "execution_count": 209,
   "id": "97594bb4",
   "metadata": {},
   "outputs": [
    {
     "data": {
      "text/plain": [
       "1    66.066507\n",
       "2    26.033437\n",
       "3     7.890869\n",
       "4     0.009186\n",
       "Name: weather, dtype: float64"
      ]
     },
     "execution_count": 209,
     "metadata": {},
     "output_type": "execute_result"
    }
   ],
   "source": [
    "data['weather'].value_counts(normalize=True)*100"
   ]
  },
  {
   "cell_type": "markdown",
   "id": "e0dae30e",
   "metadata": {},
   "source": [
    "##### OBSERVATIONS :\n",
    "\n",
    "PEOPLE PREFER THE RENTAL BIKES MORE IN WEATHER 1(CLEAR SKY DAY) i.e. 66%."
   ]
  },
  {
   "cell_type": "code",
   "execution_count": null,
   "id": "5ba0f57e",
   "metadata": {},
   "outputs": [],
   "source": []
  },
  {
   "cell_type": "code",
   "execution_count": null,
   "id": "84e7a6fb",
   "metadata": {},
   "outputs": [],
   "source": []
  },
  {
   "cell_type": "code",
   "execution_count": null,
   "id": "56c408d7",
   "metadata": {},
   "outputs": [],
   "source": []
  },
  {
   "cell_type": "markdown",
   "id": "c38d917c",
   "metadata": {},
   "source": [
    "#### MEAN TEMPERATURE IN DIFFERENT SEASONS"
   ]
  },
  {
   "cell_type": "code",
   "execution_count": 20,
   "id": "5e868204",
   "metadata": {},
   "outputs": [
    {
     "data": {
      "text/html": [
       "<div>\n",
       "<style scoped>\n",
       "    .dataframe tbody tr th:only-of-type {\n",
       "        vertical-align: middle;\n",
       "    }\n",
       "\n",
       "    .dataframe tbody tr th {\n",
       "        vertical-align: top;\n",
       "    }\n",
       "\n",
       "    .dataframe thead th {\n",
       "        text-align: right;\n",
       "    }\n",
       "</style>\n",
       "<table border=\"1\" class=\"dataframe\">\n",
       "  <thead>\n",
       "    <tr style=\"text-align: right;\">\n",
       "      <th></th>\n",
       "      <th>datetime</th>\n",
       "      <th>season</th>\n",
       "      <th>holiday</th>\n",
       "      <th>workingday</th>\n",
       "      <th>weather</th>\n",
       "      <th>temp</th>\n",
       "      <th>atemp</th>\n",
       "      <th>humidity</th>\n",
       "      <th>windspeed</th>\n",
       "      <th>casual</th>\n",
       "      <th>registered</th>\n",
       "      <th>count</th>\n",
       "      <th>season_name</th>\n",
       "    </tr>\n",
       "  </thead>\n",
       "  <tbody>\n",
       "    <tr>\n",
       "      <th>0</th>\n",
       "      <td>2011-01-01 00:00:00</td>\n",
       "      <td>1</td>\n",
       "      <td>0</td>\n",
       "      <td>0</td>\n",
       "      <td>1</td>\n",
       "      <td>9.84</td>\n",
       "      <td>14.395</td>\n",
       "      <td>81</td>\n",
       "      <td>0.0</td>\n",
       "      <td>3</td>\n",
       "      <td>13</td>\n",
       "      <td>16</td>\n",
       "      <td>spring</td>\n",
       "    </tr>\n",
       "    <tr>\n",
       "      <th>1</th>\n",
       "      <td>2011-01-01 01:00:00</td>\n",
       "      <td>1</td>\n",
       "      <td>0</td>\n",
       "      <td>0</td>\n",
       "      <td>1</td>\n",
       "      <td>9.02</td>\n",
       "      <td>13.635</td>\n",
       "      <td>80</td>\n",
       "      <td>0.0</td>\n",
       "      <td>8</td>\n",
       "      <td>32</td>\n",
       "      <td>40</td>\n",
       "      <td>spring</td>\n",
       "    </tr>\n",
       "    <tr>\n",
       "      <th>2</th>\n",
       "      <td>2011-01-01 02:00:00</td>\n",
       "      <td>1</td>\n",
       "      <td>0</td>\n",
       "      <td>0</td>\n",
       "      <td>1</td>\n",
       "      <td>9.02</td>\n",
       "      <td>13.635</td>\n",
       "      <td>80</td>\n",
       "      <td>0.0</td>\n",
       "      <td>5</td>\n",
       "      <td>27</td>\n",
       "      <td>32</td>\n",
       "      <td>spring</td>\n",
       "    </tr>\n",
       "  </tbody>\n",
       "</table>\n",
       "</div>"
      ],
      "text/plain": [
       "              datetime  season  holiday  workingday  weather  temp   atemp  \\\n",
       "0  2011-01-01 00:00:00       1        0           0        1  9.84  14.395   \n",
       "1  2011-01-01 01:00:00       1        0           0        1  9.02  13.635   \n",
       "2  2011-01-01 02:00:00       1        0           0        1  9.02  13.635   \n",
       "\n",
       "   humidity  windspeed  casual  registered  count season_name  \n",
       "0        81        0.0       3          13     16      spring  \n",
       "1        80        0.0       8          32     40      spring  \n",
       "2        80        0.0       5          27     32      spring  "
      ]
     },
     "execution_count": 20,
     "metadata": {},
     "output_type": "execute_result"
    }
   ],
   "source": [
    "data.head(3)"
   ]
  },
  {
   "cell_type": "code",
   "execution_count": 21,
   "id": "4d1feb1b",
   "metadata": {
    "scrolled": false
   },
   "outputs": [
    {
     "data": {
      "image/png": "[encoded data removed]",
      "text/plain": [
       "<Figure size 576x432 with 1 Axes>"
      ]
     },
     "metadata": {
      "needs_background": "light"
     },
     "output_type": "display_data"
    }
   ],
   "source": [
    "plt.figure(figsize=(8,6))\n",
    "sns.kdeplot(data=data,x='temp',hue='season_name',fill=True,palette='deep')\n",
    "plt.grid()\n",
    "plt.show()"
   ]
  },
  {
   "cell_type": "code",
   "execution_count": 22,
   "id": "383b8c12",
   "metadata": {},
   "outputs": [
    {
     "data": {
      "text/plain": [
       "season_name\n",
       "fall      28.789111\n",
       "spring    12.530491\n",
       "summer    22.823483\n",
       "winter    16.649239\n",
       "Name: temp, dtype: float64"
      ]
     },
     "execution_count": 22,
     "metadata": {},
     "output_type": "execute_result"
    }
   ],
   "source": [
    "data.groupby('season_name')['temp'].mean()"
   ]
  },
  {
   "cell_type": "markdown",
   "id": "440b6702",
   "metadata": {},
   "source": [
    "##### OBSERVATIONS :\n",
    "\n",
    "SURPRISINGLY FROM VISUALS AND DATA, WE CAN SEE MINIMUM TEMPERATURE(12.53) IS IN SPRING AND MAXIMUM TEMPERATURE(28.78) IS IN FALL."
   ]
  },
  {
   "cell_type": "code",
   "execution_count": null,
   "id": "6b7b63c2",
   "metadata": {},
   "outputs": [],
   "source": []
  },
  {
   "cell_type": "code",
   "execution_count": null,
   "id": "e5091848",
   "metadata": {},
   "outputs": [],
   "source": []
  },
  {
   "cell_type": "code",
   "execution_count": null,
   "id": "237e5687",
   "metadata": {},
   "outputs": [],
   "source": []
  },
  {
   "cell_type": "markdown",
   "id": "ce313cd4",
   "metadata": {},
   "source": [
    "#### MEAN HUMIDITY IN DIFFERENT SEASONS"
   ]
  },
  {
   "cell_type": "code",
   "execution_count": 23,
   "id": "328d190b",
   "metadata": {},
   "outputs": [
    {
     "data": {
      "image/png": "[encoded data removed]",
      "text/plain": [
       "<Figure size 576x432 with 1 Axes>"
      ]
     },
     "metadata": {
      "needs_background": "light"
     },
     "output_type": "display_data"
    }
   ],
   "source": [
    "plt.figure(figsize=(8,6))\n",
    "sns.boxplot(data=data,y='humidity',x='season_name',palette='deep')\n",
    "plt.grid()\n",
    "plt.show()"
   ]
  },
  {
   "cell_type": "markdown",
   "id": "857c3f3f",
   "metadata": {},
   "source": [
    "##### OBSERVATIONS :\n",
    "\n",
    "LOWEST HUMIDITY IS IN SPRING SEASON, FALL AND WINTER HAVE ALMOST EQUAL MEAN HUMIDITY."
   ]
  },
  {
   "cell_type": "code",
   "execution_count": null,
   "id": "5f2142b7",
   "metadata": {},
   "outputs": [],
   "source": []
  },
  {
   "cell_type": "code",
   "execution_count": null,
   "id": "a2d90f98",
   "metadata": {},
   "outputs": [],
   "source": []
  },
  {
   "cell_type": "code",
   "execution_count": null,
   "id": "72d557a0",
   "metadata": {},
   "outputs": [],
   "source": []
  },
  {
   "cell_type": "markdown",
   "id": "fadb5ef6",
   "metadata": {},
   "source": [
    "#### MEAN WINDSPEED IN DIFFERENT SEASONS"
   ]
  },
  {
   "cell_type": "code",
   "execution_count": 24,
   "id": "6f4ce2a7",
   "metadata": {},
   "outputs": [
    {
     "data": {
      "image/png": "[encoded data removed]",
      "text/plain": [
       "<Figure size 576x432 with 1 Axes>"
      ]
     },
     "metadata": {
      "needs_background": "light"
     },
     "output_type": "display_data"
    }
   ],
   "source": [
    "plt.figure(figsize=(8,6))\n",
    "sns.boxplot(data=data,y='windspeed',x='season_name',palette='deep')\n",
    "plt.grid()\n",
    "plt.show()"
   ]
  },
  {
   "cell_type": "markdown",
   "id": "9e2b191c",
   "metadata": {},
   "source": [
    "##### OBSERVATIONS :\n",
    "\n",
    "1. WINDSPEED FOR ALL SEASON IS NEARLY EQUAL.\n",
    "\n",
    "2. VARIANCE OF WINDSPEED IS MORE IN SPRING SEASON.\n",
    "\n",
    "3. THERE IS ONE OUTLIER IN FALL SEASON WHICH SHOWS MAXIMUM VALUE. "
   ]
  },
  {
   "cell_type": "code",
   "execution_count": null,
   "id": "195ed81b",
   "metadata": {},
   "outputs": [],
   "source": []
  },
  {
   "cell_type": "code",
   "execution_count": null,
   "id": "f4602a05",
   "metadata": {},
   "outputs": [],
   "source": []
  },
  {
   "cell_type": "markdown",
   "id": "b08809a6",
   "metadata": {},
   "source": [
    "### BIVARIATE ANALYSIS"
   ]
  },
  {
   "cell_type": "code",
   "execution_count": null,
   "id": "c1691176",
   "metadata": {},
   "outputs": [],
   "source": []
  },
  {
   "cell_type": "markdown",
   "id": "bce1e584",
   "metadata": {},
   "source": [
    "#### FOR CASUAL,REGISTERED RIDERS ON SEASONS"
   ]
  },
  {
   "cell_type": "code",
   "execution_count": 25,
   "id": "33cd7d08",
   "metadata": {},
   "outputs": [
    {
     "data": {
      "image/png": "[encoded data removed]",
      "text/plain": [
       "<Figure size 1080x576 with 2 Axes>"
      ]
     },
     "metadata": {
      "needs_background": "light"
     },
     "output_type": "display_data"
    }
   ],
   "source": [
    "fig,axes = plt.subplots(nrows=1,ncols=2,figsize=(15,8))\n",
    "sns.boxplot(data=data,y='casual',x='season_name',palette='deep',ax=axes[0]).set_title(\"DATA OF CASUAL RIDES FOR DIFFERENT SEASONS\")\n",
    "sns.boxplot(data=data,y='registered',x='season_name',palette='deep',ax=axes[1]).set_title(\"DATA OF REGISTERED RIDES FOR DIFFERENT SEASONS\")\n",
    "plt.show()"
   ]
  },
  {
   "cell_type": "markdown",
   "id": "cefa9b7f",
   "metadata": {},
   "source": [
    "##### OBSERVATIONS :\n",
    "\n",
    "FROM THE ABOVE GRAPH WE CAN CONFIRM THAT :\n",
    "\n",
    "1. MORE PEOPLE HAVE TAKEN THE RIDE IN REGISTERED CATEGORY AND ITS VARIANCE IS ALSO LARGE WHEN COMPARED WITH CASUAL RIDERS.\n",
    "2. OUTLIERS IN CASUAL RIDES ARE MORE THAN REGISTERED RIDES (PERCENTAGE WISE)."
   ]
  },
  {
   "cell_type": "code",
   "execution_count": null,
   "id": "eb377521",
   "metadata": {},
   "outputs": [],
   "source": []
  },
  {
   "cell_type": "code",
   "execution_count": null,
   "id": "58b95df4",
   "metadata": {},
   "outputs": [],
   "source": []
  },
  {
   "cell_type": "code",
   "execution_count": null,
   "id": "e48e8582",
   "metadata": {},
   "outputs": [],
   "source": []
  },
  {
   "cell_type": "markdown",
   "id": "8de62012",
   "metadata": {},
   "source": [
    "#### FOR CASUAL,REGISTERED RIDERS ON HOLIDAY"
   ]
  },
  {
   "cell_type": "code",
   "execution_count": 26,
   "id": "a7ba70b5",
   "metadata": {},
   "outputs": [
    {
     "data": {
      "image/png": "[encoded data removed]",
      "text/plain": [
       "<Figure size 1080x576 with 2 Axes>"
      ]
     },
     "metadata": {
      "needs_background": "light"
     },
     "output_type": "display_data"
    }
   ],
   "source": [
    "fig,axes = plt.subplots(nrows=1,ncols=2,figsize=(15,8))\n",
    "sns.boxplot(data=data,y='casual',x='holiday',palette='deep',ax=axes[0]).set_title(\"DATA OF CASUAL RIDES ON HOLIDAY\")\n",
    "sns.boxplot(data=data,y='registered',x='holiday',palette='deep',ax=axes[1]).set_title(\"DATA OF REGISTERED RIDES ON HOLIDAY\")\n",
    "plt.show()"
   ]
  },
  {
   "cell_type": "markdown",
   "id": "f802089b",
   "metadata": {},
   "source": [
    "##### OBSERVATIONS :\n",
    "\n",
    "1. MEAN VALUES FOR REGISTERED RIDES ON HOLIDAYS ARE MORE THAN CASUAL RIDES.\n",
    "2. MEAN VALUES FOR REGISTERED RIDES ON NON-HOLIDAYS ARE ALSO MORE THAN CASUAL RIDES.\n",
    "\n",
    "\n",
    "1. MEAN AND VARIANCE FOR CASUAL RIDES ARE MORE ON HOLIDAYS THAN ON NON-HOLIDAYS.\n",
    "2. MEAN AND VARIANCE FOR REGISTERED RIDES ARE MORE ON NON-HOLIDAYS THAN ON HOLIDAYS.\n",
    "\n",
    "\n",
    "1. FOR CASUAL RIDERS, PEOPLE PREFER TO TAKE RIDES ON HOLIDAYS.\n",
    "2. FOR REGISTERED RIDERS, PEOPLE PREFER TO TAKE RIDES ON NON-HOLIDAYS. THIS MAYBE BECAUSE PEOPLE WOULD BE USING THEM TO GO TO THEIR OFFICES.\n",
    "3. OUTLIERS ON NON-HOLIDAY FOR CASUAL RIDES ARE FAR MORE THAN FOR REGISTERED RIDES STATING PEOPLE MIGHT USE THEM IN EMERGENCY. "
   ]
  },
  {
   "cell_type": "code",
   "execution_count": null,
   "id": "971c4723",
   "metadata": {},
   "outputs": [],
   "source": []
  },
  {
   "cell_type": "code",
   "execution_count": null,
   "id": "1a65d61a",
   "metadata": {},
   "outputs": [],
   "source": []
  },
  {
   "cell_type": "code",
   "execution_count": null,
   "id": "8240bfb2",
   "metadata": {},
   "outputs": [],
   "source": []
  },
  {
   "cell_type": "markdown",
   "id": "10440bbd",
   "metadata": {},
   "source": [
    "#### FOR CASUAL,REGISTERED RIDERS ON WORKING DAY"
   ]
  },
  {
   "cell_type": "code",
   "execution_count": 27,
   "id": "b53a2256",
   "metadata": {},
   "outputs": [
    {
     "data": {
      "image/png": "[encoded data removed]",
      "text/plain": [
       "<Figure size 1080x576 with 2 Axes>"
      ]
     },
     "metadata": {
      "needs_background": "light"
     },
     "output_type": "display_data"
    }
   ],
   "source": [
    "fig,axes = plt.subplots(nrows=1,ncols=2,figsize=(15,8))\n",
    "sns.boxplot(data=data,y='casual',x='workingday',palette='deep',ax=axes[0]).set_title(\"DATA OF CASUAL RIDES ON WORKINGDAY\")\n",
    "sns.boxplot(data=data,y='registered',x='workingday',palette='deep',ax=axes[1]).set_title(\"DATA OF REGISTERED RIDES ON WORKINGDAY\")\n",
    "plt.show()"
   ]
  },
  {
   "cell_type": "markdown",
   "id": "4b539bba",
   "metadata": {},
   "source": [
    "##### OBSERVATIONS :\n",
    "\n",
    "FROM ABOVE VISUALS WE CAN CONFIRM THAT :\n",
    "\n",
    "\n",
    "1. REGISTERED USERS ARE MORE THAN CASUAL USERS.\n",
    "\n",
    "\n",
    "1. REGISTERED USERS TAKES THE RIDES MORE ON WORKING DAYS, MAYBE BECAUSE THEY USE THEM IN THEIR DAY TO DAY WORK. \n",
    "2. CASUAL USERS TAKES THE RIDES MORE ON NON-WORKING DAYS, MAYBE BECAUSE THEY USE THEM TO TRY OR FOR ENJOYMENT PURPOSE."
   ]
  },
  {
   "cell_type": "code",
   "execution_count": null,
   "id": "205fa209",
   "metadata": {},
   "outputs": [],
   "source": []
  },
  {
   "cell_type": "code",
   "execution_count": null,
   "id": "b4336ded",
   "metadata": {},
   "outputs": [],
   "source": []
  },
  {
   "cell_type": "code",
   "execution_count": null,
   "id": "fd222c60",
   "metadata": {},
   "outputs": [],
   "source": []
  },
  {
   "cell_type": "markdown",
   "id": "e42536cf",
   "metadata": {},
   "source": [
    "#### FOR CASUAL,REGISTERED RIDERS ON WEATHERS"
   ]
  },
  {
   "cell_type": "code",
   "execution_count": 28,
   "id": "9e8dd25d",
   "metadata": {},
   "outputs": [
    {
     "data": {
      "image/png": "[encoded data removed]",
      "text/plain": [
       "<Figure size 1080x576 with 2 Axes>"
      ]
     },
     "metadata": {
      "needs_background": "light"
     },
     "output_type": "display_data"
    }
   ],
   "source": [
    "fig,axes = plt.subplots(nrows=1,ncols=2,figsize=(15,8))\n",
    "sns.boxplot(data=data,y='casual',x='weather',palette='deep',ax=axes[0]).set_title(\"DATA OF CASUAL RIDES ON DIFFERENT WEATHERS\")\n",
    "sns.boxplot(data=data,y='registered',x='weather',palette='deep',ax=axes[1]).set_title(\"DATA OF REGISTERED RIDES ON DIFFERENT WEATHERS\")\n",
    "plt.show()"
   ]
  },
  {
   "cell_type": "markdown",
   "id": "dcd253a7",
   "metadata": {},
   "source": [
    "##### OBSERVATIONS :\n",
    "\n",
    "FROM ABOVE VISUALS WE CAN CONFIRM THAT :\n",
    "\n",
    "1. REGISTERED USERS ARE MORE THAN CASUAL USERS IN ALL WEATHERS.\n",
    "2. AS THE WEATHER GOES ROUGH/VERY BAD, PEOPLE TENDS TO TAKE LESS RIDES AND VICE VERSA.\n",
    "3. WEATHER PLAYS VERY IMPORTANT ROLE FOR INCREASING OR DECREASING THE RIDE COUNTS.\n"
   ]
  },
  {
   "cell_type": "code",
   "execution_count": null,
   "id": "bb7c63c4",
   "metadata": {},
   "outputs": [],
   "source": []
  },
  {
   "cell_type": "code",
   "execution_count": null,
   "id": "41cad269",
   "metadata": {},
   "outputs": [],
   "source": []
  },
  {
   "cell_type": "code",
   "execution_count": null,
   "id": "b5d03790",
   "metadata": {},
   "outputs": [],
   "source": []
  },
  {
   "cell_type": "markdown",
   "id": "f73d615b",
   "metadata": {},
   "source": [
    "#### FOR ONLY CASUAL RIDERS (COUNT) PER SEASON / HOLIDAY / WORKING DAY / WEATHER"
   ]
  },
  {
   "cell_type": "code",
   "execution_count": 29,
   "id": "07fc1877",
   "metadata": {},
   "outputs": [
    {
     "data": {
      "image/png": "[encoded data removed]",
      "text/plain": [
       "<Figure size 720x504 with 4 Axes>"
      ]
     },
     "metadata": {
      "needs_background": "light"
     },
     "output_type": "display_data"
    }
   ],
   "source": [
    "fig, axes = plt.subplots(nrows=2, ncols=2, figsize=(10,7))\n",
    "fig.subplots_adjust(top=1.4)\n",
    "\n",
    "sns.barplot(data=data,x='season',y='casual',palette='deep',ax=axes[0,0]).set_title(\"TOTAL CASUAL COUNT PER SEASON\")\n",
    "sns.barplot(data=data,x='holiday',y='casual',palette='deep',ax=axes[0,1]).set_title(\"TOTAL CASUAL COUNT PER HOLIDAY\")\n",
    "sns.barplot(data=data,x='workingday',y='casual',palette='deep',ax=axes[1,0]).set_title(\"TOTAL CASUAL COUNT PER WORKING DAY\")\n",
    "sns.barplot(data=data,x='weather',y='casual',palette='deep',ax=axes[1,1]).set_title(\"TOTAL CASUAL COUNT PER WEATHER\")\n",
    "\n",
    "plt.show()"
   ]
  },
  {
   "cell_type": "code",
   "execution_count": null,
   "id": "c967160c",
   "metadata": {},
   "outputs": [],
   "source": []
  },
  {
   "cell_type": "markdown",
   "id": "82fbfbda",
   "metadata": {},
   "source": [
    "##### OBSERVATIONS :\n",
    "#### CASUAL RIDES\n",
    "WITH RESPECT TO SEASON :\n",
    "- SEASON 3 HAS THE MOST NUMBER OF CASUAL RIDES.\n",
    "- SEASON 1 HAS THE MOST NUMBER OF CASUAL RIDES.\n",
    "\n",
    "WITH RESPECT TO HOLIDAY :\n",
    "- TOTAL NUMBER OF RIDES IS MORE IN HOLIDAYS AS COMPARED TO NON-HOLIDAYS.\n",
    "\n",
    "WITH RESPECT TO WORKING DAYS :\n",
    "- TOTAL NUMBER OF RIDES IS MORE IN NON-WORKING DAYS AS COMPARED TO WORKING DAYS.\n",
    "\n",
    "WITH RESPECT TO WEATHER :\n",
    "- WEATHER 1 (CLEAR SKY) HAS THE MAXIMUM NUMBER OF RIDES COUNT.\n",
    "- WEATHER 4 (Heavy Rain + Thunderstorm + Mist, Snow + Fog) HAS THE LEAST NUMBER OF RIDES COUNT."
   ]
  },
  {
   "cell_type": "code",
   "execution_count": null,
   "id": "85eece25",
   "metadata": {},
   "outputs": [],
   "source": []
  },
  {
   "cell_type": "code",
   "execution_count": null,
   "id": "d70d4806",
   "metadata": {},
   "outputs": [],
   "source": []
  },
  {
   "cell_type": "code",
   "execution_count": null,
   "id": "428ae7f6",
   "metadata": {},
   "outputs": [],
   "source": []
  },
  {
   "cell_type": "markdown",
   "id": "119dd61c",
   "metadata": {},
   "source": [
    "#### FOR ONLY REGISTERED RIDERS PER SEASON / HOLIDAY / WORKING DAY / WEATHER"
   ]
  },
  {
   "cell_type": "code",
   "execution_count": 30,
   "id": "59ddbc63",
   "metadata": {},
   "outputs": [
    {
     "data": {
      "image/png": "[encoded data removed]",
      "text/plain": [
       "<Figure size 720x504 with 4 Axes>"
      ]
     },
     "metadata": {
      "needs_background": "light"
     },
     "output_type": "display_data"
    }
   ],
   "source": [
    "fig, axes = plt.subplots(nrows=2, ncols=2, figsize=(10,7))\n",
    "fig.subplots_adjust(top=1.4)\n",
    "\n",
    "sns.barplot(data=data,x='season',y='registered',palette='deep',ax=axes[0,0]).set_title(\"TOTAL REGISTERED COUNT PER SEASON\")\n",
    "sns.barplot(data=data,x='holiday',y='registered',palette='deep',ax=axes[0,1]).set_title(\"TOTAL REGISTERED COUNT PER HOLIDAY\")\n",
    "sns.barplot(data=data,x='workingday',y='registered',palette='deep',ax=axes[1,0]).set_title(\"TOTAL REGISTERED COUNT PER WORKING DAY\")\n",
    "sns.barplot(data=data,x='weather',y='registered',palette='deep',ax=axes[1,1]).set_title(\"TOTAL REGISTERED COUNT PER WEATHER\")\n",
    "\n",
    "plt.show()"
   ]
  },
  {
   "cell_type": "code",
   "execution_count": null,
   "id": "f3aac3ab",
   "metadata": {},
   "outputs": [],
   "source": []
  },
  {
   "cell_type": "markdown",
   "id": "257fa071",
   "metadata": {},
   "source": [
    "##### OBSERVATIONS:\n",
    "\n",
    "#### REGISTERED RIDES\n",
    "WITH RESPECT TO SEASON :\n",
    "- SEASON 3 HAS THE MOST NUMBER OF CASUAL RIDES.\n",
    "- SEASON 1 HAS THE MOST NUMBER OF CASUAL RIDES.\n",
    "\n",
    "WITH RESPECT TO HOLIDAY :\n",
    "- TOTAL NUMBER OF RIDES IS MORE IN NON-HOLIDAYS AS COMPARED TO HOLIDAYS.\n",
    "\n",
    "WITH RESPECT TO WORKING DAYS :\n",
    "- TOTAL NUMBER OF RIDES IS MORE IN WORKING DAYS AS COMPARED TO NON-WORKING DAYS.\n",
    "\n",
    "WITH RESPECT TO WEATHER :\n",
    "- WEATHER 1 (CLEAR SKY) HAS THE MAXIMUM NUMBER OF RIDES COUNT.\n",
    "- WEATHER 3 (Light Snow, Light Rain + Thunderstorm + Scattered clouds, Light Rain + Scattered clouds) HAS THE LEAST NUMBER OF   RIDES COUNT."
   ]
  },
  {
   "cell_type": "code",
   "execution_count": null,
   "id": "219b6d4d",
   "metadata": {},
   "outputs": [],
   "source": []
  },
  {
   "cell_type": "code",
   "execution_count": null,
   "id": "a3e5b3e9",
   "metadata": {},
   "outputs": [],
   "source": []
  },
  {
   "cell_type": "code",
   "execution_count": null,
   "id": "96a49544",
   "metadata": {},
   "outputs": [],
   "source": []
  },
  {
   "cell_type": "markdown",
   "id": "7247f62f",
   "metadata": {},
   "source": [
    "#### FOR OVERALL RIDERS(TOTAL COUNT) PER SEASON / HOLIDAY / WORKING DAY / WEATHER¶"
   ]
  },
  {
   "cell_type": "code",
   "execution_count": 31,
   "id": "2fa1f366",
   "metadata": {},
   "outputs": [
    {
     "data": {
      "image/png": "[encoded data removed]",
      "text/plain": [
       "<Figure size 720x504 with 4 Axes>"
      ]
     },
     "metadata": {
      "needs_background": "light"
     },
     "output_type": "display_data"
    }
   ],
   "source": [
    "fig, axes = plt.subplots(nrows=2, ncols=2, figsize=(10,7))\n",
    "fig.subplots_adjust(top=1.4)\n",
    "\n",
    "sns.barplot(data=data,x='season',y='count',palette='deep',ax=axes[0,0]).set_title(\"TOTAL COUNT PER SEASON\")\n",
    "sns.barplot(data=data,x='holiday',y='count',palette='deep',ax=axes[0,1]).set_title(\"TOTAL COUNT PER HOLIDAY\")\n",
    "sns.barplot(data=data,x='workingday',y='count',palette='deep',ax=axes[1,0]).set_title(\"TOTAL COUNT PER WORKING DAY\")\n",
    "sns.barplot(data=data,x='weather',y='count',palette='deep',ax=axes[1,1]).set_title(\"TOTAL COUNT PER WEATHER\")\n",
    "\n",
    "plt.show()"
   ]
  },
  {
   "cell_type": "code",
   "execution_count": null,
   "id": "c3c48967",
   "metadata": {},
   "outputs": [],
   "source": []
  },
  {
   "cell_type": "markdown",
   "id": "0872066e",
   "metadata": {},
   "source": [
    "##### OBSERVATIONS :\n",
    "\n",
    "#### TOTAL RIDES\n",
    "WITH RESPECT TO SEASON :\n",
    "- SEASON 3 HAS THE MOST NUMBER OF CASUAL RIDES.\n",
    "- SEASON 1 HAS THE MOST NUMBER OF CASUAL RIDES.\n",
    "\n",
    "WITH RESPECT TO HOLIDAY :\n",
    "- TOTAL NUMBER OF RIDES IS MORE IN NON-HOLIDAYS AS COMPARED TO NON-HOLIDAYS BUT THE DIFFERENCE IS LOW.\n",
    "\n",
    "WITH RESPECT TO WORKING DAYS :\n",
    "- TOTAL NUMBER OF RIDES IS MORE IN WORKING DAYS AS COMPARED TO NON-WORKING DAYS BUT THE DIFFERENCE IS VERY LOW.\n",
    "\n",
    "WITH RESPECT TO WEATHER :\n",
    "- WEATHER 1 (CLEAR SKY) HAS THE MAXIMUM NUMBER OF RIDES COUNT.\n",
    "- WEATHER 3 (Light Snow, Light Rain + Thunderstorm + Scattered clouds, Light Rain + Scattered clouds) HAS THE LEAST NUMBER OF   RIDES COUNT."
   ]
  },
  {
   "cell_type": "code",
   "execution_count": null,
   "id": "8d5b86fb",
   "metadata": {},
   "outputs": [],
   "source": []
  },
  {
   "cell_type": "code",
   "execution_count": null,
   "id": "6d0a6dfe",
   "metadata": {},
   "outputs": [],
   "source": []
  },
  {
   "cell_type": "code",
   "execution_count": null,
   "id": "6f667954",
   "metadata": {},
   "outputs": [],
   "source": []
  },
  {
   "cell_type": "markdown",
   "id": "6928900a",
   "metadata": {},
   "source": [
    "#### SEASON AND RIDES"
   ]
  },
  {
   "cell_type": "code",
   "execution_count": 32,
   "id": "acb3702b",
   "metadata": {},
   "outputs": [
    {
     "data": {
      "text/html": [
       "<div>\n",
       "<style scoped>\n",
       "    .dataframe tbody tr th:only-of-type {\n",
       "        vertical-align: middle;\n",
       "    }\n",
       "\n",
       "    .dataframe tbody tr th {\n",
       "        vertical-align: top;\n",
       "    }\n",
       "\n",
       "    .dataframe thead th {\n",
       "        text-align: right;\n",
       "    }\n",
       "</style>\n",
       "<table border=\"1\" class=\"dataframe\">\n",
       "  <thead>\n",
       "    <tr style=\"text-align: right;\">\n",
       "      <th>season_name</th>\n",
       "      <th>fall</th>\n",
       "      <th>spring</th>\n",
       "      <th>summer</th>\n",
       "      <th>winter</th>\n",
       "    </tr>\n",
       "    <tr>\n",
       "      <th>weather</th>\n",
       "      <th></th>\n",
       "      <th></th>\n",
       "      <th></th>\n",
       "      <th></th>\n",
       "    </tr>\n",
       "  </thead>\n",
       "  <tbody>\n",
       "    <tr>\n",
       "      <th>1</th>\n",
       "      <td>1930</td>\n",
       "      <td>1759</td>\n",
       "      <td>1801</td>\n",
       "      <td>1702</td>\n",
       "    </tr>\n",
       "    <tr>\n",
       "      <th>2</th>\n",
       "      <td>604</td>\n",
       "      <td>715</td>\n",
       "      <td>708</td>\n",
       "      <td>807</td>\n",
       "    </tr>\n",
       "    <tr>\n",
       "      <th>3</th>\n",
       "      <td>199</td>\n",
       "      <td>211</td>\n",
       "      <td>224</td>\n",
       "      <td>225</td>\n",
       "    </tr>\n",
       "    <tr>\n",
       "      <th>4</th>\n",
       "      <td>0</td>\n",
       "      <td>1</td>\n",
       "      <td>0</td>\n",
       "      <td>0</td>\n",
       "    </tr>\n",
       "  </tbody>\n",
       "</table>\n",
       "</div>"
      ],
      "text/plain": [
       "season_name  fall  spring  summer  winter\n",
       "weather                                  \n",
       "1            1930    1759    1801    1702\n",
       "2             604     715     708     807\n",
       "3             199     211     224     225\n",
       "4               0       1       0       0"
      ]
     },
     "execution_count": 32,
     "metadata": {},
     "output_type": "execute_result"
    }
   ],
   "source": [
    "weathe_season_crosstab = pd.crosstab(data['weather'],data['season_name'])\n",
    "weathe_season_crosstab"
   ]
  },
  {
   "cell_type": "code",
   "execution_count": 33,
   "id": "626e4fa8",
   "metadata": {
    "scrolled": false
   },
   "outputs": [
    {
     "data": {
      "image/png": "[encoded data removed]",
      "text/plain": [
       "<Figure size 504x432 with 2 Axes>"
      ]
     },
     "metadata": {
      "needs_background": "light"
     },
     "output_type": "display_data"
    }
   ],
   "source": [
    "plt.figure(figsize=(7,6))\n",
    "sns.heatmap(weathe_season_crosstab,annot=True,cmap='crest',linewidths=(0.5),fmt='.2f')\n",
    "plt.show()"
   ]
  },
  {
   "cell_type": "markdown",
   "id": "0936cd2d",
   "metadata": {},
   "source": [
    "##### OBSERVATIONS :\n",
    "\n",
    "1. FROM THE ABOVE VISUALS WE CAN SEE THAT PEOPLE USE RENTAL BIKES MORE WHEN ENVIRONMENT IS GOOD.\n",
    "2. PEOPLE USED THE BIKES MOST WHEN WEATHER WAS CLEAR AND IN FALL SEASON.\n",
    "3. USAGE OF IT GRADUALLY DECREASES AS THE WEATHER GOES ROUGH. "
   ]
  },
  {
   "cell_type": "code",
   "execution_count": null,
   "id": "21a0da3c",
   "metadata": {},
   "outputs": [],
   "source": []
  },
  {
   "cell_type": "code",
   "execution_count": null,
   "id": "052ec433",
   "metadata": {},
   "outputs": [],
   "source": []
  },
  {
   "cell_type": "markdown",
   "id": "f9691d35",
   "metadata": {},
   "source": [
    "### HYPOTHESIS TESTING"
   ]
  },
  {
   "cell_type": "code",
   "execution_count": 34,
   "id": "3ce0ba95",
   "metadata": {},
   "outputs": [
    {
     "data": {
      "text/html": [
       "<div>\n",
       "<style scoped>\n",
       "    .dataframe tbody tr th:only-of-type {\n",
       "        vertical-align: middle;\n",
       "    }\n",
       "\n",
       "    .dataframe tbody tr th {\n",
       "        vertical-align: top;\n",
       "    }\n",
       "\n",
       "    .dataframe thead th {\n",
       "        text-align: right;\n",
       "    }\n",
       "</style>\n",
       "<table border=\"1\" class=\"dataframe\">\n",
       "  <thead>\n",
       "    <tr style=\"text-align: right;\">\n",
       "      <th></th>\n",
       "      <th>datetime</th>\n",
       "      <th>season</th>\n",
       "      <th>holiday</th>\n",
       "      <th>workingday</th>\n",
       "      <th>weather</th>\n",
       "      <th>temp</th>\n",
       "      <th>atemp</th>\n",
       "      <th>humidity</th>\n",
       "      <th>windspeed</th>\n",
       "      <th>casual</th>\n",
       "      <th>registered</th>\n",
       "      <th>count</th>\n",
       "      <th>season_name</th>\n",
       "    </tr>\n",
       "  </thead>\n",
       "  <tbody>\n",
       "    <tr>\n",
       "      <th>0</th>\n",
       "      <td>2011-01-01 00:00:00</td>\n",
       "      <td>1</td>\n",
       "      <td>0</td>\n",
       "      <td>0</td>\n",
       "      <td>1</td>\n",
       "      <td>9.84</td>\n",
       "      <td>14.395</td>\n",
       "      <td>81</td>\n",
       "      <td>0.0000</td>\n",
       "      <td>3</td>\n",
       "      <td>13</td>\n",
       "      <td>16</td>\n",
       "      <td>spring</td>\n",
       "    </tr>\n",
       "    <tr>\n",
       "      <th>1</th>\n",
       "      <td>2011-01-01 01:00:00</td>\n",
       "      <td>1</td>\n",
       "      <td>0</td>\n",
       "      <td>0</td>\n",
       "      <td>1</td>\n",
       "      <td>9.02</td>\n",
       "      <td>13.635</td>\n",
       "      <td>80</td>\n",
       "      <td>0.0000</td>\n",
       "      <td>8</td>\n",
       "      <td>32</td>\n",
       "      <td>40</td>\n",
       "      <td>spring</td>\n",
       "    </tr>\n",
       "    <tr>\n",
       "      <th>2</th>\n",
       "      <td>2011-01-01 02:00:00</td>\n",
       "      <td>1</td>\n",
       "      <td>0</td>\n",
       "      <td>0</td>\n",
       "      <td>1</td>\n",
       "      <td>9.02</td>\n",
       "      <td>13.635</td>\n",
       "      <td>80</td>\n",
       "      <td>0.0000</td>\n",
       "      <td>5</td>\n",
       "      <td>27</td>\n",
       "      <td>32</td>\n",
       "      <td>spring</td>\n",
       "    </tr>\n",
       "    <tr>\n",
       "      <th>3</th>\n",
       "      <td>2011-01-01 03:00:00</td>\n",
       "      <td>1</td>\n",
       "      <td>0</td>\n",
       "      <td>0</td>\n",
       "      <td>1</td>\n",
       "      <td>9.84</td>\n",
       "      <td>14.395</td>\n",
       "      <td>75</td>\n",
       "      <td>0.0000</td>\n",
       "      <td>3</td>\n",
       "      <td>10</td>\n",
       "      <td>13</td>\n",
       "      <td>spring</td>\n",
       "    </tr>\n",
       "    <tr>\n",
       "      <th>4</th>\n",
       "      <td>2011-01-01 04:00:00</td>\n",
       "      <td>1</td>\n",
       "      <td>0</td>\n",
       "      <td>0</td>\n",
       "      <td>1</td>\n",
       "      <td>9.84</td>\n",
       "      <td>14.395</td>\n",
       "      <td>75</td>\n",
       "      <td>0.0000</td>\n",
       "      <td>0</td>\n",
       "      <td>1</td>\n",
       "      <td>1</td>\n",
       "      <td>spring</td>\n",
       "    </tr>\n",
       "    <tr>\n",
       "      <th>...</th>\n",
       "      <td>...</td>\n",
       "      <td>...</td>\n",
       "      <td>...</td>\n",
       "      <td>...</td>\n",
       "      <td>...</td>\n",
       "      <td>...</td>\n",
       "      <td>...</td>\n",
       "      <td>...</td>\n",
       "      <td>...</td>\n",
       "      <td>...</td>\n",
       "      <td>...</td>\n",
       "      <td>...</td>\n",
       "      <td>...</td>\n",
       "    </tr>\n",
       "    <tr>\n",
       "      <th>10881</th>\n",
       "      <td>2012-12-19 19:00:00</td>\n",
       "      <td>4</td>\n",
       "      <td>0</td>\n",
       "      <td>1</td>\n",
       "      <td>1</td>\n",
       "      <td>15.58</td>\n",
       "      <td>19.695</td>\n",
       "      <td>50</td>\n",
       "      <td>26.0027</td>\n",
       "      <td>7</td>\n",
       "      <td>329</td>\n",
       "      <td>336</td>\n",
       "      <td>winter</td>\n",
       "    </tr>\n",
       "    <tr>\n",
       "      <th>10882</th>\n",
       "      <td>2012-12-19 20:00:00</td>\n",
       "      <td>4</td>\n",
       "      <td>0</td>\n",
       "      <td>1</td>\n",
       "      <td>1</td>\n",
       "      <td>14.76</td>\n",
       "      <td>17.425</td>\n",
       "      <td>57</td>\n",
       "      <td>15.0013</td>\n",
       "      <td>10</td>\n",
       "      <td>231</td>\n",
       "      <td>241</td>\n",
       "      <td>winter</td>\n",
       "    </tr>\n",
       "    <tr>\n",
       "      <th>10883</th>\n",
       "      <td>2012-12-19 21:00:00</td>\n",
       "      <td>4</td>\n",
       "      <td>0</td>\n",
       "      <td>1</td>\n",
       "      <td>1</td>\n",
       "      <td>13.94</td>\n",
       "      <td>15.910</td>\n",
       "      <td>61</td>\n",
       "      <td>15.0013</td>\n",
       "      <td>4</td>\n",
       "      <td>164</td>\n",
       "      <td>168</td>\n",
       "      <td>winter</td>\n",
       "    </tr>\n",
       "    <tr>\n",
       "      <th>10884</th>\n",
       "      <td>2012-12-19 22:00:00</td>\n",
       "      <td>4</td>\n",
       "      <td>0</td>\n",
       "      <td>1</td>\n",
       "      <td>1</td>\n",
       "      <td>13.94</td>\n",
       "      <td>17.425</td>\n",
       "      <td>61</td>\n",
       "      <td>6.0032</td>\n",
       "      <td>12</td>\n",
       "      <td>117</td>\n",
       "      <td>129</td>\n",
       "      <td>winter</td>\n",
       "    </tr>\n",
       "    <tr>\n",
       "      <th>10885</th>\n",
       "      <td>2012-12-19 23:00:00</td>\n",
       "      <td>4</td>\n",
       "      <td>0</td>\n",
       "      <td>1</td>\n",
       "      <td>1</td>\n",
       "      <td>13.12</td>\n",
       "      <td>16.665</td>\n",
       "      <td>66</td>\n",
       "      <td>8.9981</td>\n",
       "      <td>4</td>\n",
       "      <td>84</td>\n",
       "      <td>88</td>\n",
       "      <td>winter</td>\n",
       "    </tr>\n",
       "  </tbody>\n",
       "</table>\n",
       "<p>10886 rows × 13 columns</p>\n",
       "</div>"
      ],
      "text/plain": [
       "                  datetime  season  holiday  workingday  weather   temp  \\\n",
       "0      2011-01-01 00:00:00       1        0           0        1   9.84   \n",
       "1      2011-01-01 01:00:00       1        0           0        1   9.02   \n",
       "2      2011-01-01 02:00:00       1        0           0        1   9.02   \n",
       "3      2011-01-01 03:00:00       1        0           0        1   9.84   \n",
       "4      2011-01-01 04:00:00       1        0           0        1   9.84   \n",
       "...                    ...     ...      ...         ...      ...    ...   \n",
       "10881  2012-12-19 19:00:00       4        0           1        1  15.58   \n",
       "10882  2012-12-19 20:00:00       4        0           1        1  14.76   \n",
       "10883  2012-12-19 21:00:00       4        0           1        1  13.94   \n",
       "10884  2012-12-19 22:00:00       4        0           1        1  13.94   \n",
       "10885  2012-12-19 23:00:00       4        0           1        1  13.12   \n",
       "\n",
       "        atemp  humidity  windspeed  casual  registered  count season_name  \n",
       "0      14.395        81     0.0000       3          13     16      spring  \n",
       "1      13.635        80     0.0000       8          32     40      spring  \n",
       "2      13.635        80     0.0000       5          27     32      spring  \n",
       "3      14.395        75     0.0000       3          10     13      spring  \n",
       "4      14.395        75     0.0000       0           1      1      spring  \n",
       "...       ...       ...        ...     ...         ...    ...         ...  \n",
       "10881  19.695        50    26.0027       7         329    336      winter  \n",
       "10882  17.425        57    15.0013      10         231    241      winter  \n",
       "10883  15.910        61    15.0013       4         164    168      winter  \n",
       "10884  17.425        61     6.0032      12         117    129      winter  \n",
       "10885  16.665        66     8.9981       4          84     88      winter  \n",
       "\n",
       "[10886 rows x 13 columns]"
      ]
     },
     "execution_count": 34,
     "metadata": {},
     "output_type": "execute_result"
    }
   ],
   "source": [
    "data"
   ]
  },
  {
   "cell_type": "code",
   "execution_count": null,
   "id": "08e1a227",
   "metadata": {},
   "outputs": [],
   "source": []
  },
  {
   "cell_type": "markdown",
   "id": "2934103c",
   "metadata": {},
   "source": [
    "### I. TEST TO CHECK WHETHER WORKING DAY HAS AN EFFECT ON NUMBER OF ELECTRIC CYCLES RENTED."
   ]
  },
  {
   "cell_type": "code",
   "execution_count": null,
   "id": "89cf08d4",
   "metadata": {},
   "outputs": [],
   "source": []
  },
  {
   "cell_type": "markdown",
   "id": "f268e5bb",
   "metadata": {},
   "source": [
    "##### HOLIDAY AND COUNT"
   ]
  },
  {
   "cell_type": "code",
   "execution_count": 35,
   "id": "2205afd3",
   "metadata": {},
   "outputs": [],
   "source": [
    "a = data[data['holiday']==1]['count']\n",
    "b = data[data['holiday']==0]['count']"
   ]
  },
  {
   "cell_type": "code",
   "execution_count": 36,
   "id": "28e4122c",
   "metadata": {},
   "outputs": [
    {
     "name": "stdout",
     "output_type": "stream",
     "text": [
      "t_stat : -0.5626388963477119, p_value : 0.5736923883271103\n"
     ]
    }
   ],
   "source": [
    "# H0 : COUNT FOR RIDES ARE SAME IN HOLIDAY / HOLIDAY AND RIDE-COUNT ARE INDEPENDENT\n",
    "# HA : COUNT FOR RIDES ARE DIFFERENT IN HOLIDAY / HOLIDAY AND RIDE-COUNT ARE NOT INDEPENDENT\n",
    "\n",
    "alpha = 0.05\n",
    "\n",
    "t_stat,p_value =  ttest_ind(a,b,alternative='two-sided')\n",
    "print(f\"t_stat : {t_stat}, p_value : {p_value}\")"
   ]
  },
  {
   "cell_type": "code",
   "execution_count": 37,
   "id": "b205f365",
   "metadata": {},
   "outputs": [
    {
     "name": "stdout",
     "output_type": "stream",
     "text": [
      "Since p_value 0.5736923883271103 which is greater than alpha 0.05 , accept null hypothesis. \n",
      "Therefore, COUNT FOR RIDES ARE SAME IN HOLIDAY / HOLIDAY AND RIDE-COUNT ARE INDEPENDENT.\n",
      "IT CAN NOT BECOME A GOOD PREDICTIVE MODEL.\n"
     ]
    }
   ],
   "source": [
    "if p_value < alpha:\n",
    "    print(f\"Since p_value {p_value} which is less than alpha {alpha}, reject null hypothesis.\\nTherefore, COUNT FOR RIDES ARE DIFFERENT IN HOLIDAY / HOLIDAY AND RIDE-COUNT ARE NOT INDEPENDENT.\\nIT COULD BECOME A GOOD PREDICTIVE MODEL.\")\n",
    "    \n",
    "else:\n",
    "    print(f\"Since p_value {p_value} which is greater than alpha {alpha} , accept null hypothesis. \\nTherefore, COUNT FOR RIDES ARE SAME IN HOLIDAY / HOLIDAY AND RIDE-COUNT ARE INDEPENDENT.\\nIT CAN NOT BECOME A GOOD PREDICTIVE MODEL.\")"
   ]
  },
  {
   "cell_type": "markdown",
   "id": "b15000d1",
   "metadata": {},
   "source": [
    "#### CONCLUSION : SO FROM ABOVE T-TEST WE CAN CONCLUDE THAT  HOLIDAY HAS NO EFFECT ON NUMBER OF ELECTRIC CYCLESS RENTED."
   ]
  },
  {
   "cell_type": "code",
   "execution_count": null,
   "id": "7ca86b6d",
   "metadata": {},
   "outputs": [],
   "source": []
  },
  {
   "cell_type": "code",
   "execution_count": null,
   "id": "5c4a3eca",
   "metadata": {},
   "outputs": [],
   "source": []
  },
  {
   "cell_type": "code",
   "execution_count": null,
   "id": "ebae07fe",
   "metadata": {},
   "outputs": [],
   "source": []
  },
  {
   "cell_type": "markdown",
   "id": "9111276c",
   "metadata": {},
   "source": [
    "##### WORKING-DAY AND COUNT"
   ]
  },
  {
   "cell_type": "code",
   "execution_count": 38,
   "id": "a8515ade",
   "metadata": {},
   "outputs": [],
   "source": [
    "working_zero = data[data['workingday']==0]['count']\n",
    "working_one = data[data['workingday']==1]['count']"
   ]
  },
  {
   "cell_type": "code",
   "execution_count": 39,
   "id": "3e772ae3",
   "metadata": {},
   "outputs": [
    {
     "name": "stdout",
     "output_type": "stream",
     "text": [
      "t_stat : -1.2096277376026694, p_value : 0.22644804226361348\n"
     ]
    }
   ],
   "source": [
    "# H0 : COUNT FOR RIDES ARE SAME IN WORKING DAYS / HWORKING DAYS AND RIDE-COUNT ARE INDEPENDENT\n",
    "# HA : COUNT FOR RIDES ARE DIFFERENT IN WORKING DAYS / WORKING DAYS AND RIDE-COUNT ARE NOT INDEPENDENT\n",
    "\n",
    "alpha = 0.05\n",
    "\n",
    "t_stat,p_value =  ttest_ind(working_zero,working_one,alternative='two-sided')\n",
    "print(f\"t_stat : {t_stat}, p_value : {p_value}\")"
   ]
  },
  {
   "cell_type": "code",
   "execution_count": 40,
   "id": "452eb733",
   "metadata": {},
   "outputs": [
    {
     "name": "stdout",
     "output_type": "stream",
     "text": [
      "Since p_value 0.22644804226361348 which is greater than alpha 0.05 , accept null hypothesis. \n",
      "Therefore, COUNT FOR RIDES ARE SAME IN WORKING-DAY / WORKING-DAY AND RIDE-COUNT ARE INDEPENDENT.\n",
      "IT CAN NOT BECOME A GOOD PREDICTIVE MODEL.\n"
     ]
    }
   ],
   "source": [
    "if p_value < alpha:\n",
    "    print(f\"Since p_value {p_value} which is less than alpha {alpha}, reject null hypothesis.\\nTherefore, COUNT FOR RIDES ARE DIFFERENT IN WORKING-DAY / WORKING-DAY AND RIDE-COUNT ARE DEPENDENT.\\nIT COULD BECOME A GOOD PREDICTIVE MODEL.\")\n",
    "    \n",
    "else:\n",
    "    print(f\"Since p_value {p_value} which is greater than alpha {alpha} , accept null hypothesis. \\nTherefore, COUNT FOR RIDES ARE SAME IN WORKING-DAY / WORKING-DAY AND RIDE-COUNT ARE INDEPENDENT.\\nIT CAN NOT BECOME A GOOD PREDICTIVE MODEL.\")"
   ]
  },
  {
   "cell_type": "markdown",
   "id": "bf6dfebd",
   "metadata": {},
   "source": [
    "#### CONCLUSION : SO FROM ABOVE T-TEST WE CAN CONCLUDE THAT WORKING DAY HAS NO EFFECT ON NUMBER OF ELECTRIC CYCLESS RENTED."
   ]
  },
  {
   "cell_type": "code",
   "execution_count": null,
   "id": "c41104e4",
   "metadata": {},
   "outputs": [],
   "source": []
  },
  {
   "cell_type": "code",
   "execution_count": null,
   "id": "8a90c585",
   "metadata": {},
   "outputs": [],
   "source": []
  },
  {
   "cell_type": "code",
   "execution_count": null,
   "id": "4e3a38a5",
   "metadata": {},
   "outputs": [],
   "source": []
  },
  {
   "cell_type": "markdown",
   "id": "37125de3",
   "metadata": {},
   "source": [
    "### II. TEST TO CHECK WHETHER NUMBER OF CYCLES RENTED SIMILAR OR DIFFERENT IN DIFFERENT SEASONS."
   ]
  },
  {
   "cell_type": "code",
   "execution_count": 41,
   "id": "48962736",
   "metadata": {},
   "outputs": [
    {
     "data": {
      "text/html": [
       "<div>\n",
       "<style scoped>\n",
       "    .dataframe tbody tr th:only-of-type {\n",
       "        vertical-align: middle;\n",
       "    }\n",
       "\n",
       "    .dataframe tbody tr th {\n",
       "        vertical-align: top;\n",
       "    }\n",
       "\n",
       "    .dataframe thead th {\n",
       "        text-align: right;\n",
       "    }\n",
       "</style>\n",
       "<table border=\"1\" class=\"dataframe\">\n",
       "  <thead>\n",
       "    <tr style=\"text-align: right;\">\n",
       "      <th></th>\n",
       "      <th>datetime</th>\n",
       "      <th>season</th>\n",
       "      <th>holiday</th>\n",
       "      <th>workingday</th>\n",
       "      <th>weather</th>\n",
       "      <th>temp</th>\n",
       "      <th>atemp</th>\n",
       "      <th>humidity</th>\n",
       "      <th>windspeed</th>\n",
       "      <th>casual</th>\n",
       "      <th>registered</th>\n",
       "      <th>count</th>\n",
       "      <th>season_name</th>\n",
       "    </tr>\n",
       "  </thead>\n",
       "  <tbody>\n",
       "    <tr>\n",
       "      <th>0</th>\n",
       "      <td>2011-01-01 00:00:00</td>\n",
       "      <td>1</td>\n",
       "      <td>0</td>\n",
       "      <td>0</td>\n",
       "      <td>1</td>\n",
       "      <td>9.84</td>\n",
       "      <td>14.395</td>\n",
       "      <td>81</td>\n",
       "      <td>0.0</td>\n",
       "      <td>3</td>\n",
       "      <td>13</td>\n",
       "      <td>16</td>\n",
       "      <td>spring</td>\n",
       "    </tr>\n",
       "    <tr>\n",
       "      <th>1</th>\n",
       "      <td>2011-01-01 01:00:00</td>\n",
       "      <td>1</td>\n",
       "      <td>0</td>\n",
       "      <td>0</td>\n",
       "      <td>1</td>\n",
       "      <td>9.02</td>\n",
       "      <td>13.635</td>\n",
       "      <td>80</td>\n",
       "      <td>0.0</td>\n",
       "      <td>8</td>\n",
       "      <td>32</td>\n",
       "      <td>40</td>\n",
       "      <td>spring</td>\n",
       "    </tr>\n",
       "    <tr>\n",
       "      <th>2</th>\n",
       "      <td>2011-01-01 02:00:00</td>\n",
       "      <td>1</td>\n",
       "      <td>0</td>\n",
       "      <td>0</td>\n",
       "      <td>1</td>\n",
       "      <td>9.02</td>\n",
       "      <td>13.635</td>\n",
       "      <td>80</td>\n",
       "      <td>0.0</td>\n",
       "      <td>5</td>\n",
       "      <td>27</td>\n",
       "      <td>32</td>\n",
       "      <td>spring</td>\n",
       "    </tr>\n",
       "  </tbody>\n",
       "</table>\n",
       "</div>"
      ],
      "text/plain": [
       "              datetime  season  holiday  workingday  weather  temp   atemp  \\\n",
       "0  2011-01-01 00:00:00       1        0           0        1  9.84  14.395   \n",
       "1  2011-01-01 01:00:00       1        0           0        1  9.02  13.635   \n",
       "2  2011-01-01 02:00:00       1        0           0        1  9.02  13.635   \n",
       "\n",
       "   humidity  windspeed  casual  registered  count season_name  \n",
       "0        81        0.0       3          13     16      spring  \n",
       "1        80        0.0       8          32     40      spring  \n",
       "2        80        0.0       5          27     32      spring  "
      ]
     },
     "execution_count": 41,
     "metadata": {},
     "output_type": "execute_result"
    }
   ],
   "source": [
    "data.head(3)"
   ]
  },
  {
   "cell_type": "code",
   "execution_count": 172,
   "id": "cad5a452",
   "metadata": {},
   "outputs": [
    {
     "data": {
      "text/plain": [
       "array([1, 2, 3, 4], dtype=int64)"
      ]
     },
     "execution_count": 172,
     "metadata": {},
     "output_type": "execute_result"
    }
   ],
   "source": [
    "data['season'].unique()"
   ]
  },
  {
   "cell_type": "markdown",
   "id": "376f73f6",
   "metadata": {},
   "source": [
    "##### ASSUMPTIONS OF ANOVA:\n",
    "- ALL GROUP HAVE NORMAL DISTRIBUTION - USE: QQ-PLOT OR SHAPIRO-WILK-TEST TO CHECK FOR NORMALITY\n",
    "- ALL HAVE INDEPENDENT VARIABLE -\n",
    "- ALL GROUP HAVE EQUAL VARIANCE - USE LEVENE-TEST TO CHECK FOR EQUALITY OF VARIANCE"
   ]
  },
  {
   "cell_type": "code",
   "execution_count": 42,
   "id": "7effb33b",
   "metadata": {},
   "outputs": [],
   "source": [
    "season_one = data[data['season']==1]['count']\n",
    "season_two = data[data['season']==2]['count']\n",
    "season_three = data[data['season']==3]['count']\n",
    "season_four = data[data['season']==4]['count']"
   ]
  },
  {
   "cell_type": "code",
   "execution_count": null,
   "id": "79a9ebe5",
   "metadata": {},
   "outputs": [],
   "source": []
  },
  {
   "cell_type": "markdown",
   "id": "2d0b8a87",
   "metadata": {},
   "source": [
    "ASSUMPTIONS :\n",
    "\n",
    "1. CHECKING DISTRIBUTIONS OF DATA FOR DIFFERENT WEATHER"
   ]
  },
  {
   "cell_type": "code",
   "execution_count": 43,
   "id": "67b8d3af",
   "metadata": {},
   "outputs": [
    {
     "data": {
      "image/png": "[encoded data removed]",
      "text/plain": [
       "<Figure size 648x432 with 1 Axes>"
      ]
     },
     "metadata": {
      "needs_background": "light"
     },
     "output_type": "display_data"
    }
   ],
   "source": [
    "plt.figure(figsize=(9,6))\n",
    "sns.kdeplot(data=data,x='count',hue='season',fill=True,palette='deep',warn_singular=False).set_title('CHECKING THE DISTRIBUTION OF DATA FOR DIFFERENT SEASONS.')\n",
    "plt.show()"
   ]
  },
  {
   "cell_type": "markdown",
   "id": "ef2bfca1",
   "metadata": {},
   "source": [
    "FROM THE ABOVE VISUAL, IT IS CLEAR THAT DISTRIBUTION IS NOT NORMAL."
   ]
  },
  {
   "cell_type": "code",
   "execution_count": null,
   "id": "c1a0fb80",
   "metadata": {},
   "outputs": [],
   "source": []
  },
  {
   "cell_type": "code",
   "execution_count": null,
   "id": "a5c62db8",
   "metadata": {},
   "outputs": [],
   "source": []
  },
  {
   "cell_type": "markdown",
   "id": "711a1bec",
   "metadata": {},
   "source": [
    "##### CHECKING THE NORMALITY OF DISTRIBUTION USING QQ PLOT"
   ]
  },
  {
   "cell_type": "code",
   "execution_count": 44,
   "id": "ac98bf57",
   "metadata": {},
   "outputs": [
    {
     "data": {
      "image/png": "[encoded data removed]",
      "text/plain": [
       "<Figure size 1008x864 with 4 Axes>"
      ]
     },
     "metadata": {
      "needs_background": "light"
     },
     "output_type": "display_data"
    }
   ],
   "source": [
    "fig,axes = plt.subplots(nrows=2,ncols=2,figsize=(14,12))\n",
    "\n",
    "qqplot(season_one,line='s',ax=axes[0,0])\n",
    "qqplot(season_two,line='s',ax=axes[0,1])\n",
    "qqplot(season_three,line='s',ax=axes[1,0])\n",
    "qqplot(season_four,line='s',ax=axes[1,1])\n",
    "\n",
    "plt.show()"
   ]
  },
  {
   "cell_type": "markdown",
   "id": "07aa025a",
   "metadata": {},
   "source": [
    "FROM THE ABOVE PLOT ALSO, IT IS CLEAR THAT THE DISTRIBUTIONS ARE NOT NORMAL."
   ]
  },
  {
   "cell_type": "code",
   "execution_count": null,
   "id": "b65233e2",
   "metadata": {},
   "outputs": [],
   "source": []
  },
  {
   "cell_type": "markdown",
   "id": "b7254b5d",
   "metadata": {},
   "source": [
    "##### SHAPIRO TEST : TO CHECK FOR NORMALITY OF DISTRIBUTION"
   ]
  },
  {
   "cell_type": "code",
   "execution_count": 45,
   "id": "b63836d7",
   "metadata": {},
   "outputs": [
    {
     "name": "stdout",
     "output_type": "stream",
     "text": [
      "ShapiroResult(statistic=0.8195120096206665, pvalue=2.560495001788232e-12)\n",
      "ShapiroResult(statistic=0.9088055491447449, pvalue=4.2889464424433754e-08)\n",
      "ShapiroResult(statistic=0.9095678329467773, pvalue=4.764037697668755e-08)\n",
      "ShapiroResult(statistic=0.9093152284622192, pvalue=4.6007851750573536e-08)\n"
     ]
    }
   ],
   "source": [
    "# H0 : IT IS NORMAL DISTRIBUTION\n",
    "# HA : IT IS NOT A NORMAL DISTRIBUTION\n",
    "\n",
    "seasons = [season_one,season_two,season_three,season_four]\n",
    "\n",
    "alpha = 0.05\n",
    "\n",
    "for i in seasons:\n",
    "    print(shapiro(i.sample(150,replace=True)))"
   ]
  },
  {
   "cell_type": "markdown",
   "id": "3ff6f631",
   "metadata": {},
   "source": [
    "SO, FROM THE TEST WE CAN FINALLY CONCLUDE THAT THE DISTRIBUTION OF DATA FROM DIFFERENT CATEGORIES OF SEASON IS NOT NORMAL."
   ]
  },
  {
   "cell_type": "code",
   "execution_count": null,
   "id": "e8a04985",
   "metadata": {},
   "outputs": [],
   "source": []
  },
  {
   "cell_type": "code",
   "execution_count": null,
   "id": "87261fa4",
   "metadata": {},
   "outputs": [],
   "source": []
  },
  {
   "cell_type": "markdown",
   "id": "16874b3d",
   "metadata": {},
   "source": [
    "ASSUMPTIONS :\n",
    "\n",
    "2. EQUALITY OF VARIANCE IN DIFFERENT GROUPS"
   ]
  },
  {
   "cell_type": "code",
   "execution_count": 46,
   "id": "0298f601",
   "metadata": {},
   "outputs": [
    {
     "name": "stdout",
     "output_type": "stream",
     "text": [
      "stats = 187.7706624026276\n",
      "p_value = 1.0147116860043298e-118\n",
      "alpha = 0.05\n",
      "\n",
      "Since p_value is less than alpha, \n",
      "we should reject null hypothesis and claim atleast one of the variance is different in the group.\n"
     ]
    }
   ],
   "source": [
    "# H0 : VARIANCE ARE SAME\n",
    "# HA : VARIANCE ARE NOT SAME\n",
    "\n",
    "alpha = 0.05\n",
    "\n",
    "stats,pvalue = levene(season_one,season_two,season_three,season_four)\n",
    "print(f\"stats = {stats}\\np_value = {pvalue}\\nalpha = {alpha}\")\n",
    "print()\n",
    "if pvalue < alpha:\n",
    "    print(f\"Since p_value is less than alpha, \\nwe should reject null hypothesis and claim atleast one of the variance is different in the group.\")\n",
    "else :\n",
    "    print(f\"Since p_value is greater than alpha, \\nwe should accept null hypothesis and claim variances are all same in the group.\")"
   ]
  },
  {
   "cell_type": "code",
   "execution_count": null,
   "id": "93aa8d8a",
   "metadata": {},
   "outputs": [],
   "source": []
  },
  {
   "cell_type": "markdown",
   "id": "809bb352",
   "metadata": {},
   "source": [
    "SO, FROM THE TEST WE CAN FINALLY CONCLUDE THAT THE DISTRIBUTION OF DATA FROM DIFFERENT CATEGORIES OF SEASON IS NOT NORMAL."
   ]
  },
  {
   "cell_type": "code",
   "execution_count": null,
   "id": "b7c55988",
   "metadata": {},
   "outputs": [],
   "source": []
  },
  {
   "cell_type": "markdown",
   "id": "57c73863",
   "metadata": {},
   "source": [
    "##### SINCE ASSUMPTIONS OF ANOVA FAILS, WE SHOULD NOW USE KRUSKAL TO TEST"
   ]
  },
  {
   "cell_type": "code",
   "execution_count": 47,
   "id": "9e859822",
   "metadata": {},
   "outputs": [
    {
     "name": "stdout",
     "output_type": "stream",
     "text": [
      "stats = 699.6668548181988 \n",
      "p_value = 2.479008372608633e-151 \n",
      "alpha = 0.05\n",
      "\n",
      "Since p_value is less than alpha, \n",
      "we should reject null hypothesis and claim groups have different mean.\n"
     ]
    }
   ],
   "source": [
    "# H0 : GROUPS HAVE SAME MEAN\n",
    "# HA : GROUPS HAVE DIFFERENT MEAN\n",
    "\n",
    "alpha = 0.05\n",
    "\n",
    "stats,pvalue = kruskal(season_one,season_two,season_three,season_four)\n",
    "\n",
    "print(f\"stats = {stats} \\np_value = {pvalue} \\nalpha = {alpha}\")\n",
    "print()\n",
    "\n",
    "if pvalue<alpha:\n",
    "    print(f\"Since p_value is less than alpha, \\nwe should reject null hypothesis and claim groups have different mean.\")\n",
    "else :\n",
    "    print(f\"Since p_value is greater than alpha, \\nwe should accept null hypothesis and claim groups have same mean.\")"
   ]
  },
  {
   "cell_type": "markdown",
   "id": "3dd78b1e",
   "metadata": {},
   "source": [
    "#### CONCLUSION :\n",
    "#### SO FROM ABOVE KRUSKAL TEST IT IS CLEAR THAT GROUPS HAVE DIFFERENT MEAN THEREFORE \n",
    "#### WE CAN SAY THAT NUMBER OF CYCLES RENTED ARE DIFFERENT  IN DIFFERENT SEASONS.\n",
    "#### AND IT CAN BECOME A GOOD VARIABLE FOR PREDECTIVE MODEL."
   ]
  },
  {
   "cell_type": "code",
   "execution_count": null,
   "id": "0c71c539",
   "metadata": {},
   "outputs": [],
   "source": []
  },
  {
   "cell_type": "code",
   "execution_count": null,
   "id": "c440c5ac",
   "metadata": {},
   "outputs": [],
   "source": []
  },
  {
   "cell_type": "code",
   "execution_count": null,
   "id": "f00b2dff",
   "metadata": {},
   "outputs": [],
   "source": []
  },
  {
   "cell_type": "code",
   "execution_count": null,
   "id": "57eec0c7",
   "metadata": {},
   "outputs": [],
   "source": []
  },
  {
   "cell_type": "code",
   "execution_count": null,
   "id": "d07f9fbc",
   "metadata": {},
   "outputs": [],
   "source": []
  },
  {
   "cell_type": "markdown",
   "id": "3ae05288",
   "metadata": {},
   "source": [
    "### III. TEST TO CHECK NUMBER OF CYCLES RENTED SIMILAR OR DIFFERENT IN DIFFERENT WEATHER."
   ]
  },
  {
   "cell_type": "code",
   "execution_count": null,
   "id": "8a9fb7f4",
   "metadata": {},
   "outputs": [],
   "source": []
  },
  {
   "cell_type": "code",
   "execution_count": 48,
   "id": "b46c6b26",
   "metadata": {},
   "outputs": [
    {
     "data": {
      "text/html": [
       "<div>\n",
       "<style scoped>\n",
       "    .dataframe tbody tr th:only-of-type {\n",
       "        vertical-align: middle;\n",
       "    }\n",
       "\n",
       "    .dataframe tbody tr th {\n",
       "        vertical-align: top;\n",
       "    }\n",
       "\n",
       "    .dataframe thead th {\n",
       "        text-align: right;\n",
       "    }\n",
       "</style>\n",
       "<table border=\"1\" class=\"dataframe\">\n",
       "  <thead>\n",
       "    <tr style=\"text-align: right;\">\n",
       "      <th></th>\n",
       "      <th>datetime</th>\n",
       "      <th>season</th>\n",
       "      <th>holiday</th>\n",
       "      <th>workingday</th>\n",
       "      <th>weather</th>\n",
       "      <th>temp</th>\n",
       "      <th>atemp</th>\n",
       "      <th>humidity</th>\n",
       "      <th>windspeed</th>\n",
       "      <th>casual</th>\n",
       "      <th>registered</th>\n",
       "      <th>count</th>\n",
       "      <th>season_name</th>\n",
       "    </tr>\n",
       "  </thead>\n",
       "  <tbody>\n",
       "    <tr>\n",
       "      <th>0</th>\n",
       "      <td>2011-01-01 00:00:00</td>\n",
       "      <td>1</td>\n",
       "      <td>0</td>\n",
       "      <td>0</td>\n",
       "      <td>1</td>\n",
       "      <td>9.84</td>\n",
       "      <td>14.395</td>\n",
       "      <td>81</td>\n",
       "      <td>0.0000</td>\n",
       "      <td>3</td>\n",
       "      <td>13</td>\n",
       "      <td>16</td>\n",
       "      <td>spring</td>\n",
       "    </tr>\n",
       "    <tr>\n",
       "      <th>1</th>\n",
       "      <td>2011-01-01 01:00:00</td>\n",
       "      <td>1</td>\n",
       "      <td>0</td>\n",
       "      <td>0</td>\n",
       "      <td>1</td>\n",
       "      <td>9.02</td>\n",
       "      <td>13.635</td>\n",
       "      <td>80</td>\n",
       "      <td>0.0000</td>\n",
       "      <td>8</td>\n",
       "      <td>32</td>\n",
       "      <td>40</td>\n",
       "      <td>spring</td>\n",
       "    </tr>\n",
       "    <tr>\n",
       "      <th>2</th>\n",
       "      <td>2011-01-01 02:00:00</td>\n",
       "      <td>1</td>\n",
       "      <td>0</td>\n",
       "      <td>0</td>\n",
       "      <td>1</td>\n",
       "      <td>9.02</td>\n",
       "      <td>13.635</td>\n",
       "      <td>80</td>\n",
       "      <td>0.0000</td>\n",
       "      <td>5</td>\n",
       "      <td>27</td>\n",
       "      <td>32</td>\n",
       "      <td>spring</td>\n",
       "    </tr>\n",
       "    <tr>\n",
       "      <th>3</th>\n",
       "      <td>2011-01-01 03:00:00</td>\n",
       "      <td>1</td>\n",
       "      <td>0</td>\n",
       "      <td>0</td>\n",
       "      <td>1</td>\n",
       "      <td>9.84</td>\n",
       "      <td>14.395</td>\n",
       "      <td>75</td>\n",
       "      <td>0.0000</td>\n",
       "      <td>3</td>\n",
       "      <td>10</td>\n",
       "      <td>13</td>\n",
       "      <td>spring</td>\n",
       "    </tr>\n",
       "    <tr>\n",
       "      <th>4</th>\n",
       "      <td>2011-01-01 04:00:00</td>\n",
       "      <td>1</td>\n",
       "      <td>0</td>\n",
       "      <td>0</td>\n",
       "      <td>1</td>\n",
       "      <td>9.84</td>\n",
       "      <td>14.395</td>\n",
       "      <td>75</td>\n",
       "      <td>0.0000</td>\n",
       "      <td>0</td>\n",
       "      <td>1</td>\n",
       "      <td>1</td>\n",
       "      <td>spring</td>\n",
       "    </tr>\n",
       "    <tr>\n",
       "      <th>...</th>\n",
       "      <td>...</td>\n",
       "      <td>...</td>\n",
       "      <td>...</td>\n",
       "      <td>...</td>\n",
       "      <td>...</td>\n",
       "      <td>...</td>\n",
       "      <td>...</td>\n",
       "      <td>...</td>\n",
       "      <td>...</td>\n",
       "      <td>...</td>\n",
       "      <td>...</td>\n",
       "      <td>...</td>\n",
       "      <td>...</td>\n",
       "    </tr>\n",
       "    <tr>\n",
       "      <th>10881</th>\n",
       "      <td>2012-12-19 19:00:00</td>\n",
       "      <td>4</td>\n",
       "      <td>0</td>\n",
       "      <td>1</td>\n",
       "      <td>1</td>\n",
       "      <td>15.58</td>\n",
       "      <td>19.695</td>\n",
       "      <td>50</td>\n",
       "      <td>26.0027</td>\n",
       "      <td>7</td>\n",
       "      <td>329</td>\n",
       "      <td>336</td>\n",
       "      <td>winter</td>\n",
       "    </tr>\n",
       "    <tr>\n",
       "      <th>10882</th>\n",
       "      <td>2012-12-19 20:00:00</td>\n",
       "      <td>4</td>\n",
       "      <td>0</td>\n",
       "      <td>1</td>\n",
       "      <td>1</td>\n",
       "      <td>14.76</td>\n",
       "      <td>17.425</td>\n",
       "      <td>57</td>\n",
       "      <td>15.0013</td>\n",
       "      <td>10</td>\n",
       "      <td>231</td>\n",
       "      <td>241</td>\n",
       "      <td>winter</td>\n",
       "    </tr>\n",
       "    <tr>\n",
       "      <th>10883</th>\n",
       "      <td>2012-12-19 21:00:00</td>\n",
       "      <td>4</td>\n",
       "      <td>0</td>\n",
       "      <td>1</td>\n",
       "      <td>1</td>\n",
       "      <td>13.94</td>\n",
       "      <td>15.910</td>\n",
       "      <td>61</td>\n",
       "      <td>15.0013</td>\n",
       "      <td>4</td>\n",
       "      <td>164</td>\n",
       "      <td>168</td>\n",
       "      <td>winter</td>\n",
       "    </tr>\n",
       "    <tr>\n",
       "      <th>10884</th>\n",
       "      <td>2012-12-19 22:00:00</td>\n",
       "      <td>4</td>\n",
       "      <td>0</td>\n",
       "      <td>1</td>\n",
       "      <td>1</td>\n",
       "      <td>13.94</td>\n",
       "      <td>17.425</td>\n",
       "      <td>61</td>\n",
       "      <td>6.0032</td>\n",
       "      <td>12</td>\n",
       "      <td>117</td>\n",
       "      <td>129</td>\n",
       "      <td>winter</td>\n",
       "    </tr>\n",
       "    <tr>\n",
       "      <th>10885</th>\n",
       "      <td>2012-12-19 23:00:00</td>\n",
       "      <td>4</td>\n",
       "      <td>0</td>\n",
       "      <td>1</td>\n",
       "      <td>1</td>\n",
       "      <td>13.12</td>\n",
       "      <td>16.665</td>\n",
       "      <td>66</td>\n",
       "      <td>8.9981</td>\n",
       "      <td>4</td>\n",
       "      <td>84</td>\n",
       "      <td>88</td>\n",
       "      <td>winter</td>\n",
       "    </tr>\n",
       "  </tbody>\n",
       "</table>\n",
       "<p>10886 rows × 13 columns</p>\n",
       "</div>"
      ],
      "text/plain": [
       "                  datetime  season  holiday  workingday  weather   temp  \\\n",
       "0      2011-01-01 00:00:00       1        0           0        1   9.84   \n",
       "1      2011-01-01 01:00:00       1        0           0        1   9.02   \n",
       "2      2011-01-01 02:00:00       1        0           0        1   9.02   \n",
       "3      2011-01-01 03:00:00       1        0           0        1   9.84   \n",
       "4      2011-01-01 04:00:00       1        0           0        1   9.84   \n",
       "...                    ...     ...      ...         ...      ...    ...   \n",
       "10881  2012-12-19 19:00:00       4        0           1        1  15.58   \n",
       "10882  2012-12-19 20:00:00       4        0           1        1  14.76   \n",
       "10883  2012-12-19 21:00:00       4        0           1        1  13.94   \n",
       "10884  2012-12-19 22:00:00       4        0           1        1  13.94   \n",
       "10885  2012-12-19 23:00:00       4        0           1        1  13.12   \n",
       "\n",
       "        atemp  humidity  windspeed  casual  registered  count season_name  \n",
       "0      14.395        81     0.0000       3          13     16      spring  \n",
       "1      13.635        80     0.0000       8          32     40      spring  \n",
       "2      13.635        80     0.0000       5          27     32      spring  \n",
       "3      14.395        75     0.0000       3          10     13      spring  \n",
       "4      14.395        75     0.0000       0           1      1      spring  \n",
       "...       ...       ...        ...     ...         ...    ...         ...  \n",
       "10881  19.695        50    26.0027       7         329    336      winter  \n",
       "10882  17.425        57    15.0013      10         231    241      winter  \n",
       "10883  15.910        61    15.0013       4         164    168      winter  \n",
       "10884  17.425        61     6.0032      12         117    129      winter  \n",
       "10885  16.665        66     8.9981       4          84     88      winter  \n",
       "\n",
       "[10886 rows x 13 columns]"
      ]
     },
     "execution_count": 48,
     "metadata": {},
     "output_type": "execute_result"
    }
   ],
   "source": [
    "data"
   ]
  },
  {
   "cell_type": "code",
   "execution_count": null,
   "id": "7a56e8b5",
   "metadata": {},
   "outputs": [],
   "source": []
  },
  {
   "cell_type": "markdown",
   "id": "c3cbe70c",
   "metadata": {},
   "source": [
    "##### ASSUMPTIONS OF ANOVA:\n",
    "- ALL GROUP HAVE NORMAL DISTRIBUTION - USE: QQ-PLOT OR SHAPIRO-WILK-TEST TO CHECK FOR NORMALITY\n",
    "- ALL HAVE INDEPENDENT VARIABLE -\n",
    "- ALL GROUP HAVE EQUAL VARIANCE - USE LEVENE-TEST TO CHECK FOR EQUALITY OF VARIANCE"
   ]
  },
  {
   "cell_type": "code",
   "execution_count": 49,
   "id": "65655d93",
   "metadata": {},
   "outputs": [
    {
     "data": {
      "text/plain": [
       "array([1, 2, 3, 4], dtype=int64)"
      ]
     },
     "execution_count": 49,
     "metadata": {},
     "output_type": "execute_result"
    }
   ],
   "source": [
    "data['weather'].unique()"
   ]
  },
  {
   "cell_type": "code",
   "execution_count": 50,
   "id": "4fac3ca1",
   "metadata": {},
   "outputs": [],
   "source": [
    "weather_one = data[data['weather']==1]['count']\n",
    "weather_two = data[data['weather']==2]['count']\n",
    "weather_three = data[data['weather']==3]['count']\n",
    "weather_four = data[data['weather']==4]['count']"
   ]
  },
  {
   "cell_type": "code",
   "execution_count": null,
   "id": "8d2341e6",
   "metadata": {},
   "outputs": [],
   "source": []
  },
  {
   "cell_type": "code",
   "execution_count": null,
   "id": "16f18d39",
   "metadata": {},
   "outputs": [],
   "source": []
  },
  {
   "cell_type": "markdown",
   "id": "f18e9998",
   "metadata": {},
   "source": [
    "ASSUMPTIONS :\n",
    "\n",
    "1. CHECKING DISTRIBUTIONS OF DATA FOR DIFFERENT WEATHER"
   ]
  },
  {
   "cell_type": "code",
   "execution_count": 51,
   "id": "8d17de64",
   "metadata": {
    "scrolled": false
   },
   "outputs": [
    {
     "data": {
      "image/png": "[encoded data removed]",
      "text/plain": [
       "<Figure size 648x432 with 1 Axes>"
      ]
     },
     "metadata": {
      "needs_background": "light"
     },
     "output_type": "display_data"
    }
   ],
   "source": [
    "plt.figure(figsize=(9,6))\n",
    "sns.kdeplot(data=data,x='count',hue='weather',fill=True,palette='deep',warn_singular=False).set_title('CHECKING THE DISTRIBUTION OF DATA FOR DIFFERENT WEATHERS')\n",
    "plt.show()"
   ]
  },
  {
   "cell_type": "markdown",
   "id": "47ff2e73",
   "metadata": {},
   "source": [
    "FROM VISUALS IT SEEMS DISTRIBUTIONS ARE NOT NORMAL."
   ]
  },
  {
   "cell_type": "code",
   "execution_count": null,
   "id": "60255a31",
   "metadata": {},
   "outputs": [],
   "source": []
  },
  {
   "cell_type": "markdown",
   "id": "67116478",
   "metadata": {},
   "source": [
    "##### CHECKING THE NORMALITY OF DISTRIBUTION USING QQ PLOT"
   ]
  },
  {
   "cell_type": "code",
   "execution_count": 52,
   "id": "934ba8b0",
   "metadata": {},
   "outputs": [
    {
     "data": {
      "image/png": "[encoded data removed]",
      "text/plain": [
       "<Figure size 1008x864 with 4 Axes>"
      ]
     },
     "metadata": {
      "needs_background": "light"
     },
     "output_type": "display_data"
    }
   ],
   "source": [
    "fig,axes = plt.subplots(nrows=2,ncols=2,figsize=(14,12))\n",
    "\n",
    "qqplot(weather_one,line='s',ax=axes[0,0])\n",
    "qqplot(weather_two,line='s',ax=axes[0,1])\n",
    "qqplot(weather_three,line='s',ax=axes[1,0])\n",
    "qqplot(weather_four,line='s',ax=axes[1,1])\n",
    "\n",
    "plt.show()"
   ]
  },
  {
   "cell_type": "markdown",
   "id": "2820bcad",
   "metadata": {},
   "source": [
    "FROM THE ABOVE PLOT IT SEEMS THE DISTRIBUTION OF THE DATA FROM EACH WEATHER IS NOT NORMAL."
   ]
  },
  {
   "cell_type": "code",
   "execution_count": null,
   "id": "c690e93a",
   "metadata": {},
   "outputs": [],
   "source": []
  },
  {
   "cell_type": "markdown",
   "id": "2b483baa",
   "metadata": {},
   "source": [
    "##### SHAPIRO TEST : TO CHECK FOR NORMALITY OF DISTRIBUTION"
   ]
  },
  {
   "cell_type": "code",
   "execution_count": 53,
   "id": "1aaeb7ca",
   "metadata": {},
   "outputs": [
    {
     "name": "stdout",
     "output_type": "stream",
     "text": [
      "ShapiroResult(statistic=0.8693434596061707, pvalue=3.420692062938713e-10)\n",
      "ShapiroResult(statistic=0.8938223719596863, pvalue=6.011711572995182e-09)\n",
      "ShapiroResult(statistic=0.7198878526687622, pvalue=1.4101420387757353e-15)\n",
      "ShapiroResult(statistic=1.0, pvalue=1.0)\n"
     ]
    },
    {
     "name": "stderr",
     "output_type": "stream",
     "text": [
      "C:\\Users\\SOURABH\\anaconda3\\lib\\site-packages\\scipy\\stats\\morestats.py:1757: UserWarning: Input data for shapiro has range zero. The results may not be accurate.\n",
      "  warnings.warn(\"Input data for shapiro has range zero. The results \"\n"
     ]
    }
   ],
   "source": [
    "# H0 : IT IS NORMAL DISTRIBUTION\n",
    "# HA : IT IS NOT A NORMAL DISTRIBUTION\n",
    "\n",
    "weather = [weather_one,weather_two,weather_three,weather_four]\n",
    "\n",
    "alpha = 0.05\n",
    "\n",
    "for i in weather:\n",
    "    print(shapiro(i.sample(150,replace=True)))"
   ]
  },
  {
   "cell_type": "markdown",
   "id": "684469dc",
   "metadata": {},
   "source": [
    "SO, FROM THE TEST WE CAN FINALLY CONCLUDE THAT THE DISTRIBUTION OF DATA FROM DIFFERENT CATEGORIES OF WEATHER IS NOT NORMAL."
   ]
  },
  {
   "cell_type": "code",
   "execution_count": null,
   "id": "8ca12318",
   "metadata": {},
   "outputs": [],
   "source": []
  },
  {
   "cell_type": "code",
   "execution_count": null,
   "id": "b89f1f78",
   "metadata": {},
   "outputs": [],
   "source": []
  },
  {
   "cell_type": "markdown",
   "id": "7a6b2a35",
   "metadata": {},
   "source": [
    "ASSUMPTIONS :\n",
    "\n",
    "2. EQUALITY OF VARIANCE IN DIFFERENT GROUPS"
   ]
  },
  {
   "cell_type": "code",
   "execution_count": null,
   "id": "d1e08333",
   "metadata": {},
   "outputs": [],
   "source": []
  },
  {
   "cell_type": "code",
   "execution_count": 54,
   "id": "317db30f",
   "metadata": {},
   "outputs": [
    {
     "name": "stdout",
     "output_type": "stream",
     "text": [
      "stats = 54.85106195954556\n",
      "p_value = 3.504937946833238e-35\n",
      "alpha = 0.05\n",
      "\n",
      "Since p_value is less than alpha, \n",
      "we should reject null hypothesis and claim atleast one of the variance is different in the group.\n"
     ]
    }
   ],
   "source": [
    "# H0 : VARIANCE ARE SAME\n",
    "# HA : VARIANCE ARE NOT SAME\n",
    "\n",
    "alpha = 0.05\n",
    "\n",
    "stats,pvalue = levene(weather_one,weather_two,weather_three,weather_four)\n",
    "print(f\"stats = {stats}\\np_value = {pvalue}\\nalpha = {alpha}\")\n",
    "print()\n",
    "if pvalue < alpha:\n",
    "    print(f\"Since p_value is less than alpha, \\nwe should reject null hypothesis and claim atleast one of the variance is different in the group.\")\n",
    "else :\n",
    "    print(f\"Since p_value is greater than alpha, \\nwe should accept null hypothesis and claim variances are all same in the group.\")"
   ]
  },
  {
   "cell_type": "code",
   "execution_count": null,
   "id": "3b27a7dd",
   "metadata": {},
   "outputs": [],
   "source": []
  },
  {
   "cell_type": "markdown",
   "id": "dde477ed",
   "metadata": {},
   "source": [
    "FROM TEST WE CAN CONCLUDE THAT ATLEAST ONE OF THE VARIANCE IS DIFFERENT IN THE GROUP."
   ]
  },
  {
   "cell_type": "code",
   "execution_count": null,
   "id": "ca53ee73",
   "metadata": {},
   "outputs": [],
   "source": []
  },
  {
   "cell_type": "code",
   "execution_count": null,
   "id": "8b907f24",
   "metadata": {},
   "outputs": [],
   "source": []
  },
  {
   "cell_type": "markdown",
   "id": "c92c0361",
   "metadata": {},
   "source": [
    "##### SINCE ASSUMPTIONS OF ANOVA FAILS, WE SHOULD NOW USE KRUSKAL TO TEST"
   ]
  },
  {
   "cell_type": "code",
   "execution_count": null,
   "id": "463ad612",
   "metadata": {},
   "outputs": [],
   "source": []
  },
  {
   "cell_type": "code",
   "execution_count": 55,
   "id": "ffce1b74",
   "metadata": {},
   "outputs": [
    {
     "name": "stdout",
     "output_type": "stream",
     "text": [
      "stats = 205.00216514479087 \n",
      "p_value = 3.501611300708679e-44 \n",
      "alpha = 0.05\n",
      "\n",
      "Since p_value is less than alpha, \n",
      "we should reject null hypothesis and claim groups have different mean.\n"
     ]
    }
   ],
   "source": [
    "# H0 : GROUPS HAVE SAME MEAN\n",
    "# HA : GROUPS HAVE DIFFERENT MEAN\n",
    "\n",
    "alpha = 0.05\n",
    "\n",
    "stats,pvalue = kruskal(weather_one,weather_two,weather_three,weather_four)\n",
    "\n",
    "print(f\"stats = {stats} \\np_value = {pvalue} \\nalpha = {alpha}\")\n",
    "print()\n",
    "\n",
    "if pvalue<alpha:\n",
    "    print(f\"Since p_value is less than alpha, \\nwe should reject null hypothesis and claim groups have different mean.\")\n",
    "else :\n",
    "    print(f\"Since p_value is greater than alpha, \\nwe should accept null hypothesis and claim groups have same mean.\")"
   ]
  },
  {
   "cell_type": "code",
   "execution_count": null,
   "id": "7cad47a9",
   "metadata": {},
   "outputs": [],
   "source": []
  },
  {
   "cell_type": "markdown",
   "id": "107a8e1b",
   "metadata": {},
   "source": [
    "#### CONCLUSION :\n",
    "#### SO FROM ABOVE KRUSKAL TEST IT IS CLEAR THAT GROUPS HAVE DIFFERENT MEAN THEREFORE \n",
    "#### WE CAN SAY THAT NUMBER OF CYCLES RENTED ARE DIFFERENT  IN DIFFERENT WEATHER.\n",
    "####  IT CAN BECOME A GOOD VARIABLE FOR PREDECTIVE MODEL."
   ]
  },
  {
   "cell_type": "code",
   "execution_count": null,
   "id": "e8ba6ab4",
   "metadata": {},
   "outputs": [],
   "source": []
  },
  {
   "cell_type": "code",
   "execution_count": null,
   "id": "67cec7b7",
   "metadata": {},
   "outputs": [],
   "source": []
  },
  {
   "cell_type": "code",
   "execution_count": null,
   "id": "996cb820",
   "metadata": {},
   "outputs": [],
   "source": []
  },
  {
   "cell_type": "code",
   "execution_count": null,
   "id": "74d36564",
   "metadata": {},
   "outputs": [],
   "source": []
  },
  {
   "cell_type": "markdown",
   "id": "4af10574",
   "metadata": {},
   "source": [
    "### IV. IS WEATHER DEPENDENT ON SEASON ?"
   ]
  },
  {
   "cell_type": "code",
   "execution_count": null,
   "id": "9c6ca024",
   "metadata": {},
   "outputs": [],
   "source": []
  },
  {
   "cell_type": "code",
   "execution_count": 56,
   "id": "9a993b50",
   "metadata": {},
   "outputs": [
    {
     "data": {
      "text/html": [
       "<div>\n",
       "<style scoped>\n",
       "    .dataframe tbody tr th:only-of-type {\n",
       "        vertical-align: middle;\n",
       "    }\n",
       "\n",
       "    .dataframe tbody tr th {\n",
       "        vertical-align: top;\n",
       "    }\n",
       "\n",
       "    .dataframe thead th {\n",
       "        text-align: right;\n",
       "    }\n",
       "</style>\n",
       "<table border=\"1\" class=\"dataframe\">\n",
       "  <thead>\n",
       "    <tr style=\"text-align: right;\">\n",
       "      <th>season</th>\n",
       "      <th>1</th>\n",
       "      <th>2</th>\n",
       "      <th>3</th>\n",
       "      <th>4</th>\n",
       "    </tr>\n",
       "    <tr>\n",
       "      <th>weather</th>\n",
       "      <th></th>\n",
       "      <th></th>\n",
       "      <th></th>\n",
       "      <th></th>\n",
       "    </tr>\n",
       "  </thead>\n",
       "  <tbody>\n",
       "    <tr>\n",
       "      <th>1</th>\n",
       "      <td>1759</td>\n",
       "      <td>1801</td>\n",
       "      <td>1930</td>\n",
       "      <td>1702</td>\n",
       "    </tr>\n",
       "    <tr>\n",
       "      <th>2</th>\n",
       "      <td>715</td>\n",
       "      <td>708</td>\n",
       "      <td>604</td>\n",
       "      <td>807</td>\n",
       "    </tr>\n",
       "    <tr>\n",
       "      <th>3</th>\n",
       "      <td>211</td>\n",
       "      <td>224</td>\n",
       "      <td>199</td>\n",
       "      <td>225</td>\n",
       "    </tr>\n",
       "    <tr>\n",
       "      <th>4</th>\n",
       "      <td>1</td>\n",
       "      <td>0</td>\n",
       "      <td>0</td>\n",
       "      <td>0</td>\n",
       "    </tr>\n",
       "  </tbody>\n",
       "</table>\n",
       "</div>"
      ],
      "text/plain": [
       "season      1     2     3     4\n",
       "weather                        \n",
       "1        1759  1801  1930  1702\n",
       "2         715   708   604   807\n",
       "3         211   224   199   225\n",
       "4           1     0     0     0"
      ]
     },
     "execution_count": 56,
     "metadata": {},
     "output_type": "execute_result"
    }
   ],
   "source": [
    "weathe_season_crosstab = pd.crosstab(data['weather'],data['season'])\n",
    "weathe_season_crosstab"
   ]
  },
  {
   "cell_type": "code",
   "execution_count": 57,
   "id": "6d76298c",
   "metadata": {},
   "outputs": [
    {
     "name": "stdout",
     "output_type": "stream",
     "text": [
      "fstat : 49.15865559689363 \n",
      "p_value : 1.5499250736864862e-07\n",
      "\n",
      "Since p_value is less than alpha, \n",
      "we should reject null hypothesis and claim that season and weather are dependet on each other.\n"
     ]
    }
   ],
   "source": [
    "# H0 : SEASON AND WEATHER ARE INDEPENDENT OF EACH OTHER\n",
    "# HA : SEASON AND WEATHER ARE DEPENDENT OF EACH OTHER\n",
    "\n",
    "alpha = 0.05\n",
    "\n",
    "stat,pvalue,dof,exp = chi2_contingency(weathe_season_crosstab)\n",
    "\n",
    "print(f\"fstat : {stat} \\np_value : {pvalue}\")\n",
    "print()\n",
    "if pvalue<alpha:\n",
    "    print(f\"Since p_value is less than alpha, \\nwe should reject null hypothesis and claim that season and weather are dependet on each other.\")\n",
    "else :\n",
    "    print(f\"Since p_value is greater than alpha, \\nwe should accept null hypothesis and claim that season and weather are not dependet on each other.\")"
   ]
  },
  {
   "cell_type": "code",
   "execution_count": null,
   "id": "01dddd13",
   "metadata": {},
   "outputs": [],
   "source": []
  },
  {
   "cell_type": "code",
   "execution_count": 58,
   "id": "13745f81",
   "metadata": {},
   "outputs": [
    {
     "data": {
      "image/png": "[encoded data removed]",
      "text/plain": [
       "<Figure size 504x432 with 2 Axes>"
      ]
     },
     "metadata": {
      "needs_background": "light"
     },
     "output_type": "display_data"
    }
   ],
   "source": [
    "plt.figure(figsize=(7,6))\n",
    "sns.heatmap(weathe_season_crosstab,annot=True,cmap='crest',linewidths=(0.5),fmt='.2f')\n",
    "plt.show()"
   ]
  },
  {
   "cell_type": "code",
   "execution_count": null,
   "id": "b1309007",
   "metadata": {},
   "outputs": [],
   "source": []
  },
  {
   "cell_type": "markdown",
   "id": "e3979adf",
   "metadata": {},
   "source": [
    "#### CONCLUSION :\n",
    "#### FROM THE ABOVE CHI2_CONTINGENCY TEST, IT IS CLEAR THAT WEATHER AND SEASON ARE DEPENDENT ON EACH OTHER. \n",
    "\n",
    "####  IT CAN BECOME A GOOD VARIABLE FOR PREDECTIVE MODEL."
   ]
  },
  {
   "cell_type": "code",
   "execution_count": null,
   "id": "037d2b41",
   "metadata": {},
   "outputs": [],
   "source": []
  },
  {
   "cell_type": "code",
   "execution_count": null,
   "id": "54006353",
   "metadata": {},
   "outputs": [],
   "source": []
  },
  {
   "cell_type": "code",
   "execution_count": null,
   "id": "576df937",
   "metadata": {},
   "outputs": [],
   "source": []
  },
  {
   "cell_type": "markdown",
   "id": "c16912c9",
   "metadata": {},
   "source": [
    "## INFERENCES :"
   ]
  },
  {
   "cell_type": "markdown",
   "id": "7812972d",
   "metadata": {},
   "source": [
    "1. REGISTERED PEOPLE TAKES THE RIDE MORE THAN CASUAL ONES, SO TRY TO RETAIN THOSE CUSTOMERS BY GIVING SOME ADDITIONAL BENEFITS.\n",
    "\n",
    "\n",
    "2. PEOPLE ALSO TAKE MORE RIDES ON WORKINGDAYS AND NON-HOLIDAY, SO COMPANY CAN ALSO LOOK INTO THIS PART TO INCREASE THE REVENUE.\n",
    "\n",
    "\n",
    "3. PEOPLE TAKE MORE RIDES ON WEATHER 1 (Clear, Few clouds, partly cloudy, partly cloudy) AND LEAST IN WEATHER 4(Heavy Rain + Ice Pallets + Thunderstorm + Mist, Snow + Fog).\n",
    "\n",
    "\n",
    "4. FOR REGISTERED RIDERS, PEOPLE PREFER TO TAKE RIDES ON NON-HOLIDAYS. THIS MAYBE BECAUSE PEOPLE WOULD BE USING THEM TO GO TO THEIR OFFICES. \n",
    "\n",
    "\n",
    "5. CASUAL USERS TAKES THE RIDES MORE ON NON-WORKING DAYS, MAYBE BECAUSE THEY USE THEM TO TRY OR FOR ENJOYMENT PURPOSES.\n",
    "\n",
    "\n",
    "6. AS THE WEATHER GOES ROUGH/VERY BAD, PEOPLE TENDS TO TAKE LESS RIDES AND VICE VERSA.WEATHER PLAYS VERY IMPORTANT ROLE FOR INCREASING OR DECREASING THE RIDE COUNTS.\n",
    "\n",
    "\n",
    "7. SEASON 3(FALL) HAS THE MOST NUMBER OF CASUAL RIDES.SEASON 1(SPRING) HAS THE MOST NUMBER OF CASUAL RIDES.\n",
    "\n",
    "\n",
    "8. PEOPLE USED THE BIKES MOST WHEN WEATHER WAS CLEAR AND IN SEASON 3(FALL).USAGE OF IT GRADUALLY DECREASES AS THE WEATHER GOES ROUGH.\n",
    "\n",
    "\n",
    "9. HOLIDAY HAS NO EFFECT ON NUMBER OF ELECTRIC CYCLESS RENTED.\n",
    "\n",
    "\n",
    "10. WORKING DAY HAS NO EFFECT ON NUMBER OF ELECTRIC CYCLESS RENTED.\n",
    "\n",
    "\n",
    "11. NUMBER OF CYCLES RENTED ARE DIFFERENT IN DIFFERENT SEASONS ALSO IT COULD BECOME A GOOD VARIABLE FOR PREDECTIVE MODEL.\n",
    "\n",
    "\n",
    "12. CYCLES RENTED ARE DIFFERENT IN DIFFERENT WEATHER. IT COULD BECOME A GOOD VARIABLE FOR PREDECTIVE MODEL.\n",
    "\n",
    "\n",
    "13. WEATHER AND SEASON ARE VERY MUCH DEPENDENT ON EACH OTHER. IT COULD BECOME A GOOD VARIABLE FOR PREDECTIVE MODEL.\n"
   ]
  },
  {
   "cell_type": "code",
   "execution_count": null,
   "id": "2ef78afa",
   "metadata": {},
   "outputs": [],
   "source": []
  },
  {
   "cell_type": "code",
   "execution_count": null,
   "id": "813be080",
   "metadata": {},
   "outputs": [],
   "source": []
  }
 ],
 "metadata": {
  "kernelspec": {
   "display_name": "Python 3 (ipykernel)",
   "language": "python",
   "name": "python3"
  },
  "language_info": {
   "codemirror_mode": {
    "name": "ipython",
    "version": 3
   },
   "file_extension": ".py",
   "mimetype": "text/x-python",
   "name": "python",
   "nbconvert_exporter": "python",
   "pygments_lexer": "ipython3",
   "version": "3.9.12"
  }
 },
 "nbformat": 4,
 "nbformat_minor": 5
}
